{
 "cells": [
  {
   "cell_type": "code",
   "execution_count": 1,
   "id": "18c9ca45-f2cd-4350-8b17-f7561d7f9912",
   "metadata": {},
   "outputs": [],
   "source": [
    "import requests as re\n",
    "import os\n",
    "from IPython.display import JSON  \n",
    "import pandas as pd\n"
   ]
  },
  {
   "cell_type": "code",
   "execution_count": 2,
   "id": "5c428714-97b0-4198-bb2c-227bd54dee8a",
   "metadata": {},
   "outputs": [],
   "source": [
    "client_id = os.environ[\"FOURSQUARE_CLIENT_ID\"]\n",
    "client_secret = os.environ[\"FOURSQUARE_CLIENT_SECRET\"]"
   ]
  },
  {
   "cell_type": "code",
   "execution_count": 3,
   "id": "27696a58-44c5-432a-a6cb-2b51ed2d94c1",
   "metadata": {},
   "outputs": [],
   "source": [
    "# location and version of the API\n",
    "latitude = 51.0478\n",
    "longitude= -114.0593\n",
    "v = \"20211104\"\n",
    "radius = 5000\n",
    "query = \"restaurants, bars\"\n"
   ]
  },
  {
   "cell_type": "code",
   "execution_count": 4,
   "id": "344fc603-c49f-4db0-9d74-fd2a319fbef1",
   "metadata": {},
   "outputs": [],
   "source": [
    "url = \"https://api.foursquare.com/v2/venues/search?client_id={}&client_secret={}&ll={},{}&radius={}&query={}&v={}\".format(client_id,client_secret,latitude,longitude,radius,query,v)"
   ]
  },
  {
   "cell_type": "code",
   "execution_count": 6,
   "id": "147be116-2c34-4358-a883-84be35a186ac",
   "metadata": {},
   "outputs": [
    {
     "data": {
      "application/json": {
       "meta": {
        "code": 200,
        "requestId": "618524a1e869cb4babadbf69"
       },
       "response": {
        "venues": [
         {
          "categories": [
           {
            "icon": {
             "prefix": "https://ss3.4sqi.net/img/categories_v2/food/deli_",
             "suffix": ".png"
            },
            "id": "4bf58dd8d48988d1c5941735",
            "name": "Sandwich Place",
            "pluralName": "Sandwich Places",
            "primary": true,
            "shortName": "Sandwiches"
           }
          ],
          "hasPerk": false,
          "id": "4d273e9d467d6ea8b91cbb95",
          "location": {
           "address": "520 3rd Ave SW, Suite 260",
           "cc": "CA",
           "city": "Calgary",
           "country": "Canada",
           "distance": 968,
           "formattedAddress": [
            "520 3rd Ave SW, Suite 260",
            "Calgary AB T2P 0R3",
            "Canada"
           ],
           "labeledLatLngs": [
            {
             "label": "display",
             "lat": 51.05109991833247,
             "lng": -114.07209773404963
            }
           ],
           "lat": 51.05109991833247,
           "lng": -114.07209773404963,
           "postalCode": "T2P 0R3",
           "state": "AB"
          },
          "name": "Subway",
          "referralId": "v-1636115618"
         },
         {
          "categories": [
           {
            "icon": {
             "prefix": "https://ss3.4sqi.net/img/categories_v2/food/deli_",
             "suffix": ".png"
            },
            "id": "4bf58dd8d48988d1c5941735",
            "name": "Sandwich Place",
            "pluralName": "Sandwich Places",
            "primary": true,
            "shortName": "Sandwiches"
           }
          ],
          "hasPerk": false,
          "id": "51fbfe43498eed986022afc0",
          "location": {
           "address": "425 1st St SW, Unit 204",
           "cc": "CA",
           "city": "Calgary",
           "country": "Canada",
           "distance": 471,
           "formattedAddress": [
            "425 1st St SW, Unit 204",
            "Calgary AB T2P 3L8",
            "Canada"
           ],
           "labeledLatLngs": [
            {
             "label": "display",
             "lat": 51.049174814929586,
             "lng": -114.06567505257033
            }
           ],
           "lat": 51.049174814929586,
           "lng": -114.06567505257033,
           "postalCode": "T2P 3L8",
           "state": "AB"
          },
          "name": "Subway",
          "referralId": "v-1636115618"
         },
         {
          "categories": [
           {
            "icon": {
             "prefix": "https://ss3.4sqi.net/img/categories_v2/food/deli_",
             "suffix": ".png"
            },
            "id": "4bf58dd8d48988d1c5941735",
            "name": "Sandwich Place",
            "pluralName": "Sandwich Places",
            "primary": true,
            "shortName": "Sandwiches"
           }
          ],
          "hasPerk": false,
          "id": "4e9dae60b8f77a8b473ddc68",
          "location": {
           "address": "396 11th Ave SW, Unit# 120",
           "cc": "CA",
           "city": "Calgary",
           "country": "Canada",
           "distance": 998,
           "formattedAddress": [
            "396 11th Ave SW, Unit# 120",
            "Calgary AB T2R 0C5",
            "Canada"
           ],
           "labeledLatLngs": [
            {
             "label": "display",
             "lat": 51.0427637,
             "lng": -114.0711046
            }
           ],
           "lat": 51.0427637,
           "lng": -114.0711046,
           "postalCode": "T2R 0C5",
           "state": "AB"
          },
          "name": "Subway",
          "referralId": "v-1636115618"
         },
         {
          "categories": [
           {
            "icon": {
             "prefix": "https://ss3.4sqi.net/img/categories_v2/food/deli_",
             "suffix": ".png"
            },
            "id": "4bf58dd8d48988d1c5941735",
            "name": "Sandwich Place",
            "pluralName": "Sandwich Places",
            "primary": true,
            "shortName": "Sandwiches"
           }
          ],
          "hasPerk": false,
          "id": "4ba64f24f964a520ca4439e3",
          "location": {
           "address": "200 Barclay Parade SW, Unit 185 (F06)",
           "cc": "CA",
           "city": "Calgary",
           "country": "Canada",
           "distance": 830,
           "formattedAddress": [
            "200 Barclay Parade SW, Unit 185 (F06)",
            "Calgary AB T2P 4R5",
            "Canada"
           ],
           "labeledLatLngs": [
            {
             "label": "display",
             "lat": 51.05260655114718,
             "lng": -114.06838550551748
            }
           ],
           "lat": 51.05260655114718,
           "lng": -114.06838550551748,
           "postalCode": "T2P 4R5",
           "state": "AB"
          },
          "name": "Subway",
          "referralId": "v-1636115618"
         },
         {
          "categories": [
           {
            "icon": {
             "prefix": "https://ss3.4sqi.net/img/categories_v2/food/deli_",
             "suffix": ".png"
            },
            "id": "4bf58dd8d48988d1c5941735",
            "name": "Sandwich Place",
            "pluralName": "Sandwich Places",
            "primary": true,
            "shortName": "Sandwiches"
           }
          ],
          "hasPerk": false,
          "id": "5e1119968072890008906cd6",
          "location": {
           "address": "108 16th Ave NE",
           "cc": "CA",
           "city": "Calgary",
           "country": "Canada",
           "distance": 2169,
           "formattedAddress": [
            "108 16th Ave NE",
            "Calgary AB T2E 1J5",
            "Canada"
           ],
           "labeledLatLngs": [
            {
             "label": "display",
             "lat": 51.06721565848317,
             "lng": -114.06201291805917
            }
           ],
           "lat": 51.06721565848317,
           "lng": -114.06201291805917,
           "postalCode": "T2E 1J5",
           "state": "AB"
          },
          "name": "Subway",
          "referralId": "v-1636115618"
         },
         {
          "categories": [
           {
            "icon": {
             "prefix": "https://ss3.4sqi.net/img/categories_v2/food/deli_",
             "suffix": ".png"
            },
            "id": "4bf58dd8d48988d1c5941735",
            "name": "Sandwich Place",
            "pluralName": "Sandwich Places",
            "primary": true,
            "shortName": "Sandwiches"
           }
          ],
          "hasPerk": false,
          "id": "4e516724ae6051db8de7fc91",
          "location": {
           "address": "3800 Memorial Dr NE, Store # 60",
           "cc": "CA",
           "city": "Calgary",
           "country": "Canada",
           "distance": 5741,
           "formattedAddress": [
            "3800 Memorial Dr NE, Store # 60",
            "Calgary AB T2A 2K2",
            "Canada"
           ],
           "labeledLatLngs": [
            {
             "label": "display",
             "lat": 51.056234,
             "lng": -113.978354
            }
           ],
           "lat": 51.056234,
           "lng": -113.978354,
           "postalCode": "T2A 2K2",
           "state": "AB"
          },
          "name": "Subway",
          "referralId": "v-1636115618"
         },
         {
          "categories": [
           {
            "icon": {
             "prefix": "https://ss3.4sqi.net/img/categories_v2/food/seafood_",
             "suffix": ".png"
            },
            "id": "4bf58dd8d48988d1ce941735",
            "name": "Seafood Restaurant",
            "pluralName": "Seafood Restaurants",
            "primary": true,
            "shortName": "Seafood"
           }
          ],
          "hasPerk": false,
          "id": "4cdc0b3fcea2224bd1f7884c",
          "location": {
           "address": "514 42 ave. SE",
           "cc": "CA",
           "city": "Calgary",
           "country": "Canada",
           "distance": 2872,
           "formattedAddress": [
            "514 42 ave. SE",
            "Calgary AB T2G 1Y6",
            "Canada"
           ],
           "labeledLatLngs": [
            {
             "label": "display",
             "lat": 51.022,
             "lng": -114.0601
            }
           ],
           "lat": 51.022,
           "lng": -114.0601,
           "postalCode": "T2G 1Y6",
           "state": "AB"
          },
          "name": "Joey's Seafood Restaurants Corporate Office",
          "referralId": "v-1636115618"
         },
         {
          "categories": [
           {
            "icon": {
             "prefix": "https://ss3.4sqi.net/img/categories_v2/food/deli_",
             "suffix": ".png"
            },
            "id": "4bf58dd8d48988d1c5941735",
            "name": "Sandwich Place",
            "pluralName": "Sandwich Places",
            "primary": true,
            "shortName": "Sandwiches"
           }
          ],
          "hasPerk": false,
          "id": "5e11113e5b5d2e0008fcacf1",
          "location": {
           "address": "4002 Edmonton Trail NE",
           "cc": "CA",
           "city": "Calgary",
           "country": "Canada",
           "distance": 4517,
           "formattedAddress": [
            "4002 Edmonton Trail NE",
            "Calgary AB T2E 3P6",
            "Canada"
           ],
           "labeledLatLngs": [
            {
             "label": "display",
             "lat": 51.08806285411696,
             "lng": -114.05117587653524
            }
           ],
           "lat": 51.08806285411696,
           "lng": -114.05117587653524,
           "postalCode": "T2E 3P6",
           "state": "AB"
          },
          "name": "Subway",
          "referralId": "v-1636115618"
         },
         {
          "categories": [
           {
            "icon": {
             "prefix": "https://ss3.4sqi.net/img/categories_v2/food/seafood_",
             "suffix": ".png"
            },
            "id": "4bf58dd8d48988d1ce941735",
            "name": "Seafood Restaurant",
            "pluralName": "Seafood Restaurants",
            "primary": true,
            "shortName": "Seafood"
           }
          ],
          "hasPerk": false,
          "id": "4b4d3b6ef964a520e7ce26e3",
          "location": {
           "address": "2120 Crowchild Trail NW",
           "cc": "CA",
           "city": "Calgary",
           "country": "Canada",
           "distance": 4771,
           "formattedAddress": [
            "2120 Crowchild Trail NW",
            "Calgary AB T2M 3Y7",
            "Canada"
           ],
           "labeledLatLngs": [
            {
             "label": "display",
             "lat": 51.07031827396386,
             "lng": -114.11733641493989
            }
           ],
           "lat": 51.07031827396386,
           "lng": -114.11733641493989,
           "postalCode": "T2M 3Y7",
           "state": "AB"
          },
          "name": "Joey's Seafood Restaurants",
          "referralId": "v-1636115618"
         },
         {
          "categories": [
           {
            "icon": {
             "prefix": "https://ss3.4sqi.net/img/categories_v2/food/deli_",
             "suffix": ".png"
            },
            "id": "4bf58dd8d48988d1c5941735",
            "name": "Sandwich Place",
            "pluralName": "Sandwich Places",
            "primary": true,
            "shortName": "Sandwiches"
           }
          ],
          "hasPerk": false,
          "id": "5e11166720e1b00008533a69",
          "location": {
           "address": "110-2929 Sunride Way NE, Unit E4",
           "cc": "CA",
           "city": "Calgary",
           "country": "Canada",
           "distance": 5092,
           "formattedAddress": [
            "110-2929 Sunride Way NE, Unit E4",
            "Calgary AB T1Y 7K7",
            "Canada"
           ],
           "labeledLatLngs": [
            {
             "label": "display",
             "lat": 51.06873894669136,
             "lng": -113.99458953556825
            }
           ],
           "lat": 51.06873894669136,
           "lng": -113.99458953556825,
           "postalCode": "T1Y 7K7",
           "state": "AB"
          },
          "name": "Subway",
          "referralId": "v-1636115618"
         },
         {
          "categories": [
           {
            "icon": {
             "prefix": "https://ss3.4sqi.net/img/categories_v2/food/seafood_",
             "suffix": ".png"
            },
            "id": "4bf58dd8d48988d1ce941735",
            "name": "Seafood Restaurant",
            "pluralName": "Seafood Restaurants",
            "primary": true,
            "shortName": "Seafood"
           }
          ],
          "hasPerk": false,
          "id": "51534a83e4b07ff00040f6e7",
          "location": {
           "address": "3220 - 17th Avenue SW",
           "cc": "CA",
           "city": "Calgary",
           "country": "Canada",
           "distance": 5332,
           "formattedAddress": [
            "3220 - 17th Avenue SW",
            "Calgary AB T3E 0B3",
            "Canada"
           ],
           "labeledLatLngs": [
            {
             "label": "display",
             "lat": 51.038054575385374,
             "lng": -114.13390052590105
            }
           ],
           "lat": 51.038054575385374,
           "lng": -114.13390052590105,
           "postalCode": "T3E 0B3",
           "state": "AB"
          },
          "name": "Joey's Seafood Restaurants",
          "referralId": "v-1636115618"
         },
         {
          "categories": [
           {
            "icon": {
             "prefix": "https://ss3.4sqi.net/img/categories_v2/food/deli_",
             "suffix": ".png"
            },
            "id": "4bf58dd8d48988d1c5941735",
            "name": "Sandwich Place",
            "pluralName": "Sandwich Places",
            "primary": true,
            "shortName": "Sandwiches"
           }
          ],
          "hasPerk": false,
          "id": "5e111352b9425f0008598fde",
          "location": {
           "address": "6455 Macleod Trail, #F0018",
           "cc": "CA",
           "city": "Calgary",
           "country": "Canada",
           "distance": 5601,
           "formattedAddress": [
            "6455 Macleod Trail, #F0018",
            "Calgary AB T2H 0K8",
            "Canada"
           ],
           "labeledLatLngs": [
            {
             "label": "display",
             "lat": 50.998247,
             "lng": -114.073233
            }
           ],
           "lat": 50.998247,
           "lng": -114.073233,
           "postalCode": "T2H 0K8",
           "state": "AB"
          },
          "name": "Subway",
          "referralId": "v-1636115618"
         },
         {
          "categories": [
           {
            "icon": {
             "prefix": "https://ss3.4sqi.net/img/categories_v2/food/deli_",
             "suffix": ".png"
            },
            "id": "4bf58dd8d48988d1c5941735",
            "name": "Sandwich Place",
            "pluralName": "Sandwich Places",
            "primary": true,
            "shortName": "Sandwiches"
           }
          ],
          "hasPerk": false,
          "id": "594d5e1c2be42528bc6bc95a",
          "location": {
           "address": "B 14-1200 37 St",
           "cc": "CA",
           "city": "Calgary",
           "country": "Canada",
           "distance": 5720,
           "formattedAddress": [
            "B 14-1200 37 St",
            "Calgary AB T3C 1S2",
            "Canada"
           ],
           "labeledLatLngs": [
            {
             "label": "display",
             "lat": 51.04159965763524,
             "lng": -114.1404426608276
            }
           ],
           "lat": 51.04159965763524,
           "lng": -114.1404426608276,
           "postalCode": "T3C 1S2",
           "state": "AB"
          },
          "name": "Subway",
          "referralId": "v-1636115618"
         },
         {
          "categories": [
           {
            "icon": {
             "prefix": "https://ss3.4sqi.net/img/categories_v2/food/deli_",
             "suffix": ".png"
            },
            "id": "4bf58dd8d48988d1c5941735",
            "name": "Sandwich Place",
            "pluralName": "Sandwich Places",
            "primary": true,
            "shortName": "Sandwiches"
           }
          ],
          "hasPerk": false,
          "id": "4fcfbc67e4b0286d5c7d9ec8",
          "location": {
           "address": "3110 36 Street SE",
           "cc": "CA",
           "city": "Calgary",
           "country": "Canada",
           "distance": 5958,
           "formattedAddress": [
            "3110 36 Street SE",
            "Calgary AB T2B 3B6",
            "Canada"
           ],
           "labeledLatLngs": [
            {
             "label": "display",
             "lat": 51.0266158,
             "lng": -113.9811354
            }
           ],
           "lat": 51.0266158,
           "lng": -113.9811354,
           "postalCode": "T2B 3B6",
           "state": "AB"
          },
          "name": "Subway",
          "referralId": "v-1636115618"
         },
         {
          "categories": [
           {
            "icon": {
             "prefix": "https://ss3.4sqi.net/img/categories_v2/food/deli_",
             "suffix": ".png"
            },
            "id": "4bf58dd8d48988d1c5941735",
            "name": "Sandwich Place",
            "pluralName": "Sandwich Places",
            "primary": true,
            "shortName": "Sandwiches"
           }
          ],
          "hasPerk": false,
          "id": "55be4a1d498e400147f930fe",
          "location": {
           "address": "2525 36th Street, Unit # F114",
           "cc": "CA",
           "city": "Calgary",
           "country": "Canada",
           "distance": 5956,
           "formattedAddress": [
            "2525 36th Street, Unit # F114",
            "Calgary AB T1Y 5T4",
            "Canada"
           ],
           "labeledLatLngs": [
            {
             "label": "display",
             "lat": 51.07448974915436,
             "lng": -113.9855009128243
            }
           ],
           "lat": 51.07448974915436,
           "lng": -113.9855009128243,
           "postalCode": "T1Y 5T4",
           "state": "AB"
          },
          "name": "Subway",
          "referralId": "v-1636115618"
         },
         {
          "categories": [
           {
            "icon": {
             "prefix": "https://ss3.4sqi.net/img/categories_v2/food/seafood_",
             "suffix": ".png"
            },
            "id": "4bf58dd8d48988d1ce941735",
            "name": "Seafood Restaurant",
            "pluralName": "Seafood Restaurants",
            "primary": true,
            "shortName": "Seafood"
           }
          ],
          "hasPerk": false,
          "id": "4bb63a3f1344b713a82c9d04",
          "location": {
           "address": "3545 - 32nd Ave. NE",
           "cc": "CA",
           "city": "Calgary",
           "country": "Canada",
           "distance": 6382,
           "formattedAddress": [
            "3545 - 32nd Ave. NE",
            "Calgary AB T1Y 6M6",
            "Canada"
           ],
           "labeledLatLngs": [
            {
             "label": "display",
             "lat": 51.08065159003412,
             "lng": -113.98452758789062
            }
           ],
           "lat": 51.08065159003412,
           "lng": -113.98452758789062,
           "postalCode": "T1Y 6M6",
           "state": "AB"
          },
          "name": "Joey's Seafood Restaurants",
          "referralId": "v-1636115618"
         },
         {
          "categories": [
           {
            "icon": {
             "prefix": "https://ss3.4sqi.net/img/categories_v2/building/default_",
             "suffix": ".png"
            },
            "id": "4bf58dd8d48988d124941735",
            "name": "Office",
            "pluralName": "Offices",
            "primary": true,
            "shortName": "Office"
           }
          ],
          "hasPerk": false,
          "id": "4ff7524fe4b0d27dd7b216ea",
          "location": {
           "cc": "CA",
           "country": "Canada",
           "distance": 4873,
           "formattedAddress": [
            "Canada"
           ],
           "labeledLatLngs": [
            {
             "label": "display",
             "lat": 51.00414045329272,
             "lng": -114.05411055118121
            }
           ],
           "lat": 51.00414045329272,
           "lng": -114.05411055118121
          },
          "name": "Russell Restaurant Supply",
          "referralId": "v-1636115618"
         },
         {
          "categories": [],
          "hasPerk": false,
          "id": "559dbaeb498e4264069afbee",
          "location": {
           "address": "1-1231 36 Ave NE",
           "cc": "CA",
           "city": "Calgary",
           "country": "Canada",
           "distance": 4586,
           "formattedAddress": [
            "1-1231 36 Ave NE",
            "Calgary AB T2E 6N6",
            "Canada"
           ],
           "labeledLatLngs": [
            {
             "label": "display",
             "lat": 51.085334,
             "lng": -114.032243
            }
           ],
           "lat": 51.085334,
           "lng": -114.032243,
           "postalCode": "T2E 6N6",
           "state": "AB"
          },
          "name": "Geanel Restaurant Supplies Ltd",
          "referralId": "v-1636115618"
         },
         {
          "categories": [],
          "hasPerk": false,
          "id": "4bbbf2abed7776b042323f51",
          "location": {
           "cc": "CA",
           "country": "Canada",
           "distance": 5414,
           "formattedAddress": [
            "Canada"
           ],
           "labeledLatLngs": [
            {
             "label": "display",
             "lat": 50.99972,
             "lng": -114.07096
            }
           ],
           "lat": 50.99972,
           "lng": -114.07096
          },
          "name": "Whiskey Restaurant - Saddledome",
          "referralId": "v-1636115618"
         }
        ]
       }
      },
      "text/plain": [
       "<IPython.core.display.JSON object>"
      ]
     },
     "execution_count": 6,
     "metadata": {
      "application/json": {
       "expanded": false,
       "root": "root"
      }
     },
     "output_type": "execute_result"
    }
   ],
   "source": [
    "res=re.get(url)\n",
    "# print(res)\n",
    "result = res.json()\n",
    "JSON(result)"
   ]
  },
  {
   "cell_type": "code",
   "execution_count": 7,
   "id": "c1d6ab05-bb31-4bf7-a6e7-c4aac5be16f8",
   "metadata": {},
   "outputs": [],
   "source": [
    "import sqlite3\n",
    "from sqlite3 import Error\n",
    "   "
   ]
  },
  {
   "cell_type": "code",
   "execution_count": 8,
   "id": "0979082c-8583-4ba5-a0a4-46cf7437ba45",
   "metadata": {},
   "outputs": [],
   "source": [
    "def create_connection(path):\n",
    "    connection = None\n",
    "    try:\n",
    "        connection = sqlite3.connect(path)\n",
    "        print(\"Connection to SQLite DB successful\")\n",
    "    except Error as e:\n",
    "        print(f\"The error '{e}' occurred\")\n",
    "    return connection "
   ]
  },
  {
   "cell_type": "code",
   "execution_count": 9,
   "id": "b63e246b-5890-4993-b360-c690873efa9f",
   "metadata": {},
   "outputs": [
    {
     "name": "stdout",
     "output_type": "stream",
     "text": [
      "Connection to SQLite DB successful\n"
     ]
    }
   ],
   "source": [
    "connection = create_connection(\"downtown_calgary_POI.sqlite\")"
   ]
  },
  {
   "cell_type": "code",
   "execution_count": 10,
   "id": "9fcac9e2-74fa-4dd4-8f27-a77b96b5e749",
   "metadata": {},
   "outputs": [],
   "source": [
    "def execute_query(connection, query):\n",
    "    cursor = connection.cursor()\n",
    "    try:\n",
    "        cursor.execute(query)\n",
    "        connection.commit()\n",
    "        print(\"Query executed successfully\")\n",
    "    except Error as e:\n",
    "        print(f\"The error '{e}' occurred\")"
   ]
  },
  {
   "cell_type": "code",
   "execution_count": 11,
   "id": "7cc31bf8-e646-45bf-a519-a8cbbd34332f",
   "metadata": {},
   "outputs": [
    {
     "data": {
      "text/html": [
       "<div>\n",
       "<style scoped>\n",
       "    .dataframe tbody tr th:only-of-type {\n",
       "        vertical-align: middle;\n",
       "    }\n",
       "\n",
       "    .dataframe tbody tr th {\n",
       "        vertical-align: top;\n",
       "    }\n",
       "\n",
       "    .dataframe thead th {\n",
       "        text-align: right;\n",
       "    }\n",
       "</style>\n",
       "<table border=\"1\" class=\"dataframe\">\n",
       "  <thead>\n",
       "    <tr style=\"text-align: right;\">\n",
       "      <th></th>\n",
       "      <th>name</th>\n",
       "      <th>referralId</th>\n",
       "      <th>hasPerk</th>\n",
       "      <th>location.address</th>\n",
       "      <th>location.lat</th>\n",
       "      <th>location.lng</th>\n",
       "      <th>location.distance</th>\n",
       "      <th>location.postalCode</th>\n",
       "      <th>location.cc</th>\n",
       "      <th>location.city</th>\n",
       "      <th>location.state</th>\n",
       "      <th>location.country</th>\n",
       "    </tr>\n",
       "  </thead>\n",
       "  <tbody>\n",
       "    <tr>\n",
       "      <th>0</th>\n",
       "      <td>Subway</td>\n",
       "      <td>v-1636115618</td>\n",
       "      <td>False</td>\n",
       "      <td>520 3rd Ave SW, Suite 260</td>\n",
       "      <td>51.051100</td>\n",
       "      <td>-114.072098</td>\n",
       "      <td>968</td>\n",
       "      <td>T2P 0R3</td>\n",
       "      <td>CA</td>\n",
       "      <td>Calgary</td>\n",
       "      <td>AB</td>\n",
       "      <td>Canada</td>\n",
       "    </tr>\n",
       "    <tr>\n",
       "      <th>1</th>\n",
       "      <td>Subway</td>\n",
       "      <td>v-1636115618</td>\n",
       "      <td>False</td>\n",
       "      <td>425 1st St SW, Unit 204</td>\n",
       "      <td>51.049175</td>\n",
       "      <td>-114.065675</td>\n",
       "      <td>471</td>\n",
       "      <td>T2P 3L8</td>\n",
       "      <td>CA</td>\n",
       "      <td>Calgary</td>\n",
       "      <td>AB</td>\n",
       "      <td>Canada</td>\n",
       "    </tr>\n",
       "  </tbody>\n",
       "</table>\n",
       "</div>"
      ],
      "text/plain": [
       "     name    referralId  hasPerk           location.address  location.lat  \\\n",
       "0  Subway  v-1636115618    False  520 3rd Ave SW, Suite 260     51.051100   \n",
       "1  Subway  v-1636115618    False    425 1st St SW, Unit 204     51.049175   \n",
       "\n",
       "   location.lng  location.distance location.postalCode location.cc  \\\n",
       "0   -114.072098                968             T2P 0R3          CA   \n",
       "1   -114.065675                471             T2P 3L8          CA   \n",
       "\n",
       "  location.city location.state location.country  \n",
       "0       Calgary             AB           Canada  \n",
       "1       Calgary             AB           Canada  "
      ]
     },
     "execution_count": 11,
     "metadata": {},
     "output_type": "execute_result"
    }
   ],
   "source": [
    "#releveant part needed\n",
    "venues = result['response']['venues']\n",
    "# transform venues into a dataframe\n",
    "df = pd.json_normalize(venues) \n",
    "df.head(2)\n",
    "#remove come columns\n",
    "df1= df.drop(columns=[\"categories\",\"location.formattedAddress\", \"id\",\"location.labeledLatLngs\"])\n",
    "df1.head(2)"
   ]
  },
  {
   "cell_type": "code",
   "execution_count": 129,
   "id": "7ba9b3f4-24df-4ccc-afcf-b67964a2b11f",
   "metadata": {},
   "outputs": [],
   "source": [
    "#create table in sql\n",
    "df_sql = df1.to_sql('foursquare_venues', connection, if_exists='fail', index=True)"
   ]
  },
  {
   "cell_type": "code",
   "execution_count": 130,
   "id": "1da70b4b-7f29-4fa8-9126-1bdd191e403f",
   "metadata": {},
   "outputs": [],
   "source": [
    "#Selecting records\n",
    "def execute_read_query(connection, query):\n",
    "    cursor= connection.cursor()\n",
    "    result = None\n",
    "    try:\n",
    "        cursor.execute(query)\n",
    "        result=cursor.fetchall()\n",
    "        return result\n",
    "    except Error as e:\n",
    "        print(f\"The error '{e}' occurred\")"
   ]
  },
  {
   "cell_type": "code",
   "execution_count": 131,
   "id": "9eb3c82a-6654-402c-879e-4a4d8617cc2b",
   "metadata": {},
   "outputs": [],
   "source": [
    "four = \"SELECT * from foursquare_venues\"\n",
    "four_ven = execute_read_query(connection, four)\n",
    "\n",
    "#for ven in four_ven:\n",
    " #   print(ven)\n",
    "    "
   ]
  },
  {
   "cell_type": "code",
   "execution_count": null,
   "id": "2cefc3cc-8203-4c42-a9ef-01751113e5b0",
   "metadata": {},
   "outputs": [],
   "source": []
  }
 ],
 "metadata": {
  "kernelspec": {
   "display_name": "Python 3 (ipykernel)",
   "language": "python",
   "name": "python3"
  },
  "language_info": {
   "codemirror_mode": {
    "name": "ipython",
    "version": 3
   },
   "file_extension": ".py",
   "mimetype": "text/x-python",
   "name": "python",
   "nbconvert_exporter": "python",
   "pygments_lexer": "ipython3",
   "version": "3.8.11"
  }
 },
 "nbformat": 4,
 "nbformat_minor": 5
}

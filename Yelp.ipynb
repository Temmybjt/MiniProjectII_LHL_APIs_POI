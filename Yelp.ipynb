{
 "cells": [
  {
   "cell_type": "code",
   "execution_count": 9,
   "id": "4dbcc78f-f661-4da4-8b22-1826953d1545",
   "metadata": {},
   "outputs": [],
   "source": [
    "import requests as re\n",
    "import os\n",
    "from IPython.display import JSON  \n",
    "import pandas as pd\n"
   ]
  },
  {
   "cell_type": "code",
   "execution_count": 10,
   "id": "66ce1174-f70e-40d9-8e24-36d5ccc9e593",
   "metadata": {},
   "outputs": [],
   "source": [
    "app_id = os.environ[\"YELP_CLIENT_ID\"]\n",
    "app_key = os.environ[\"YELP_API_KEY\"]\n",
    "# url_append = f'?app_id={app_id}&app_key={app_key}' \n",
    "\n",
    "headers= {'Authorization': 'Bearer {}'.format(app_key)}"
   ]
  },
  {
   "cell_type": "code",
   "execution_count": 11,
   "id": "da0e2b25-8053-465e-9213-16105be0d51e",
   "metadata": {},
   "outputs": [],
   "source": [
    "# YELP URL\n",
    "url = \"https://api.yelp.com/v3/businesses/search\"\n",
    "\n",
    "params = { 'limit': 50,\n",
    "           'term':'restaurants, bars',\n",
    "           'longitude': -114.0593,\n",
    "            'latitude': 51.0478,\n",
    "          'radius': 5000,\n",
    "          #attributes': 'open_to_all'\n",
    "         }"
   ]
  },
  {
   "cell_type": "code",
   "execution_count": 12,
   "id": "75d07e27-4afe-437b-aa9f-cf2e9abe1fb7",
   "metadata": {},
   "outputs": [],
   "source": [
    "# Send request to API\n",
    "res = re.get(url, headers=headers, params=params,timeout=5)"
   ]
  },
  {
   "cell_type": "code",
   "execution_count": 13,
   "id": "0d34f231-e59f-40cd-a8db-a543cd35ec55",
   "metadata": {},
   "outputs": [
    {
     "data": {
      "text/plain": [
       "200"
      ]
     },
     "execution_count": 13,
     "metadata": {},
     "output_type": "execute_result"
    }
   ],
   "source": [
    "# check if the request was successful\n",
    "res.status_code"
   ]
  },
  {
   "cell_type": "code",
   "execution_count": 14,
   "id": "f74221bb-7290-4ec6-869e-6250c0e42f95",
   "metadata": {},
   "outputs": [
    {
     "data": {
      "application/json": {
       "businesses": [
        {
         "alias": "paper-lantern-calgary-2",
         "categories": [
          {
           "alias": "asianfusion",
           "title": "Asian Fusion"
          },
          {
           "alias": "vietnamese",
           "title": "Vietnamese"
          },
          {
           "alias": "cocktailbars",
           "title": "Cocktail Bars"
          }
         ],
         "coordinates": {
          "latitude": 51.050879,
          "longitude": -114.061746
         },
         "display_phone": "+1 403-457-7765",
         "distance": 386.9829673498603,
         "id": "ceUvqA9HGSJaVysZ2VlN2A",
         "image_url": "https://s3-media3.fl.yelpcdn.com/bphoto/sGNVqJGDRg2oAf_9OLFgrQ/o.jpg",
         "is_closed": false,
         "location": {
          "address1": "115 - 2 Avenue SE",
          "address2": null,
          "address3": null,
          "city": "Calgary",
          "country": "CA",
          "display_address": [
           "115 - 2 Avenue SE",
           "Calgary, AB T2G 0B2",
           "Canada"
          ],
          "state": "AB",
          "zip_code": "T2G 0B2"
         },
         "name": "Paper Lantern",
         "phone": "+14034577765",
         "rating": 5,
         "review_count": 5,
         "transactions": [],
         "url": "https://www.yelp.com/biz/paper-lantern-calgary-2?adjust_creative=p3MulaJR4fK5L0ExFRIgWQ&utm_campaign=yelp_api_v3&utm_medium=api_v3_business_search&utm_source=p3MulaJR4fK5L0ExFRIgWQ"
        },
        {
         "alias": "proof-cocktail-bar-calgary",
         "categories": [
          {
           "alias": "cocktailbars",
           "title": "Cocktail Bars"
          }
         ],
         "coordinates": {
          "latitude": 51.0404547106041,
          "longitude": -114.065636776787
         },
         "display_phone": "+1 403-246-2414",
         "distance": 929.1660334574599,
         "id": "OtyzeeeAY_we0cuON-rDNQ",
         "image_url": "https://s3-media1.fl.yelpcdn.com/bphoto/s2o9Pawa9d2CrN9sCWHVKQ/o.jpg",
         "is_closed": false,
         "location": {
          "address1": "1302 1st Street SW",
          "address2": "",
          "address3": "",
          "city": "Calgary",
          "country": "CA",
          "display_address": [
           "1302 1st Street SW",
           "Calgary, AB T2R 0V7",
           "Canada"
          ],
          "state": "AB",
          "zip_code": "T2R 0V7"
         },
         "name": "Proof Cocktail Bar",
         "phone": "+14032462414",
         "price": "$$",
         "rating": 4.5,
         "review_count": 63,
         "transactions": [],
         "url": "https://www.yelp.com/biz/proof-cocktail-bar-calgary?adjust_creative=p3MulaJR4fK5L0ExFRIgWQ&utm_campaign=yelp_api_v3&utm_medium=api_v3_business_search&utm_source=p3MulaJR4fK5L0ExFRIgWQ"
        },
        {
         "alias": "soleil-bistro-and-bar-calgary",
         "categories": [
          {
           "alias": "waffles",
           "title": "Waffles"
          },
          {
           "alias": "bistros",
           "title": "Bistros"
          },
          {
           "alias": "cocktailbars",
           "title": "Cocktail Bars"
          }
         ],
         "coordinates": {
          "latitude": 51.04683644313222,
          "longitude": -114.05045693497021
         },
         "display_phone": "+1 403-764-5227",
         "distance": 627.3974563283497,
         "id": "hxYU2YVWLfUC4pyt1rPaUg",
         "image_url": "https://s3-media2.fl.yelpcdn.com/bphoto/eOZFHF8AOEQhlXMm02nl9Q/o.jpg",
         "is_closed": false,
         "location": {
          "address1": "612 5 Street SE",
          "address2": "",
          "address3": null,
          "city": "Calgary",
          "country": "CA",
          "display_address": [
           "612 5 Street SE",
           "Calgary, AB T2G 0J7",
           "Canada"
          ],
          "state": "AB",
          "zip_code": "T2G 0J7"
         },
         "name": "Soleil Bistro & Bar",
         "phone": "+14037645227",
         "rating": 5,
         "review_count": 5,
         "transactions": [],
         "url": "https://www.yelp.com/biz/soleil-bistro-and-bar-calgary?adjust_creative=p3MulaJR4fK5L0ExFRIgWQ&utm_campaign=yelp_api_v3&utm_medium=api_v3_business_search&utm_source=p3MulaJR4fK5L0ExFRIgWQ"
        },
        {
         "alias": "cactus-club-cafe-calgary",
         "categories": [
          {
           "alias": "newcanadian",
           "title": "Canadian (New)"
          },
          {
           "alias": "cocktailbars",
           "title": "Cocktail Bars"
          },
          {
           "alias": "fooddeliveryservices",
           "title": "Food Delivery Services"
          }
         ],
         "coordinates": {
          "latitude": 51.0896019,
          "longitude": -114.0007117
         },
         "display_phone": "+1 403-250-1120",
         "distance": 6193.890211227404,
         "id": "B9Qt4Eyk3lpz2LEtGU205g",
         "image_url": "https://s3-media1.fl.yelpcdn.com/bphoto/Hv2FnOh0sm80N-ATvqJd5A/o.jpg",
         "is_closed": false,
         "location": {
          "address1": "2612 39 Avenue NE",
          "address2": "",
          "address3": "",
          "city": "Calgary",
          "country": "CA",
          "display_address": [
           "2612 39 Avenue NE",
           "Calgary, AB T1Y 7J9",
           "Canada"
          ],
          "state": "AB",
          "zip_code": "T1Y 7J9"
         },
         "name": "Cactus Club Cafe",
         "phone": "+14032501120",
         "price": "$$",
         "rating": 4.5,
         "review_count": 184,
         "transactions": [],
         "url": "https://www.yelp.com/biz/cactus-club-cafe-calgary?adjust_creative=p3MulaJR4fK5L0ExFRIgWQ&utm_campaign=yelp_api_v3&utm_medium=api_v3_business_search&utm_source=p3MulaJR4fK5L0ExFRIgWQ"
        },
        {
         "alias": "shelter-calgary",
         "categories": [
          {
           "alias": "cocktailbars",
           "title": "Cocktail Bars"
          },
          {
           "alias": "speakeasies",
           "title": "Speakeasies"
          }
         ],
         "coordinates": {
          "latitude": 51.041176958987,
          "longitude": -114.065613950484
         },
         "display_phone": "+1 403-233-7730",
         "distance": 858.6016273903448,
         "id": "oogE5PsFFBbnpnuQO3H0fg",
         "image_url": "https://s3-media2.fl.yelpcdn.com/bphoto/LKomW_eAEJRRScJIh3tMcQ/o.jpg",
         "is_closed": false,
         "location": {
          "address1": "1210 1 Street SW",
          "address2": "",
          "address3": null,
          "city": "Calgary",
          "country": "CA",
          "display_address": [
           "1210 1 Street SW",
           "Calgary, AB T2R 0V4",
           "Canada"
          ],
          "state": "AB",
          "zip_code": "T2R 0V4"
         },
         "name": "SHELTER",
         "phone": "+14032337730",
         "rating": 4.5,
         "review_count": 9,
         "transactions": [],
         "url": "https://www.yelp.com/biz/shelter-calgary?adjust_creative=p3MulaJR4fK5L0ExFRIgWQ&utm_campaign=yelp_api_v3&utm_medium=api_v3_business_search&utm_source=p3MulaJR4fK5L0ExFRIgWQ"
        },
        {
         "alias": "cotto-italian-comfort-food-calgary",
         "categories": [
          {
           "alias": "italian",
           "title": "Italian"
          }
         ],
         "coordinates": {
          "latitude": 51.05463,
          "longitude": -114.08556
         },
         "display_phone": "+1 587-356-4088",
         "distance": 1976.4828082839892,
         "id": "u1FG19aFIaiUdQNrrsvi4g",
         "image_url": "https://s3-media2.fl.yelpcdn.com/bphoto/AcG_dZEPGe0Wc1pR9iJp5Q/o.jpg",
         "is_closed": false,
         "location": {
          "address1": "314 10 Street Northwest",
          "address2": "",
          "address3": null,
          "city": "Calgary",
          "country": "CA",
          "display_address": [
           "314 10 Street Northwest",
           "Calgary, AB T2N 1V8",
           "Canada"
          ],
          "state": "AB",
          "zip_code": "T2N 1V8"
         },
         "name": "Cotto Italian Comfort Food",
         "phone": "+15873564088",
         "price": "$$",
         "rating": 4.5,
         "review_count": 59,
         "transactions": [
          "restaurant_reservation"
         ],
         "url": "https://www.yelp.com/biz/cotto-italian-comfort-food-calgary?adjust_creative=p3MulaJR4fK5L0ExFRIgWQ&utm_campaign=yelp_api_v3&utm_medium=api_v3_business_search&utm_source=p3MulaJR4fK5L0ExFRIgWQ"
        },
        {
         "alias": "lulu-bar-calgary",
         "categories": [
          {
           "alias": "desserts",
           "title": "Desserts"
          },
          {
           "alias": "bars",
           "title": "Bars"
          },
          {
           "alias": "poke",
           "title": "Poke"
          }
         ],
         "coordinates": {
          "latitude": 51.037947053247144,
          "longitude": -114.07220972234126
         },
         "display_phone": "+1 403-519-0444",
         "distance": 1419.482046578517,
         "id": "CKyHqnP8W8-v-KZ0T8ZFRg",
         "image_url": "https://s3-media3.fl.yelpcdn.com/bphoto/xufUXQXS8TxBXsGpK9mnqQ/o.jpg",
         "is_closed": false,
         "location": {
          "address1": "510 17 Avenue SW",
          "address2": "",
          "address3": null,
          "city": "Calgary",
          "country": "CA",
          "display_address": [
           "510 17 Avenue SW",
           "Calgary, AB T2S 0B1",
           "Canada"
          ],
          "state": "AB",
          "zip_code": "T2S 0B1"
         },
         "name": "Lulu Bar",
         "phone": "+14035190444",
         "rating": 4.5,
         "review_count": 36,
         "transactions": [],
         "url": "https://www.yelp.com/biz/lulu-bar-calgary?adjust_creative=p3MulaJR4fK5L0ExFRIgWQ&utm_campaign=yelp_api_v3&utm_medium=api_v3_business_search&utm_source=p3MulaJR4fK5L0ExFRIgWQ"
        },
        {
         "alias": "murrietas-west-coast-bar-and-grill-calgary-2",
         "categories": [
          {
           "alias": "wine_bars",
           "title": "Wine Bars"
          },
          {
           "alias": "seafood",
           "title": "Seafood"
          },
          {
           "alias": "steak",
           "title": "Steakhouses"
          }
         ],
         "coordinates": {
          "latitude": 51.0454017,
          "longitude": -114.0652789
         },
         "display_phone": "+1 403-269-7707",
         "distance": 496.45923942363464,
         "id": "LKzDrKa0FRrRATi1gqPEiw",
         "image_url": "https://s3-media4.fl.yelpcdn.com/bphoto/kO1Q5bLGkKfJF9UB0dRWOA/o.jpg",
         "is_closed": false,
         "location": {
          "address1": "808 1st Street SW",
          "address2": "Suite 200",
          "address3": "",
          "city": "Calgary",
          "country": "CA",
          "display_address": [
           "808 1st Street SW",
           "Suite 200",
           "Calgary, AB T2P 1M9",
           "Canada"
          ],
          "state": "AB",
          "zip_code": "T2P 1M9"
         },
         "name": "Murrieta's West Coast Bar & Grill",
         "phone": "+14032697707",
         "price": "$$$",
         "rating": 4,
         "review_count": 96,
         "transactions": [],
         "url": "https://www.yelp.com/biz/murrietas-west-coast-bar-and-grill-calgary-2?adjust_creative=p3MulaJR4fK5L0ExFRIgWQ&utm_campaign=yelp_api_v3&utm_medium=api_v3_business_search&utm_source=p3MulaJR4fK5L0ExFRIgWQ"
        },
        {
         "alias": "zcrew-cafe-calgary",
         "categories": [
          {
           "alias": "cafes",
           "title": "Cafes"
          }
         ],
         "coordinates": {
          "latitude": 51.0419918,
          "longitude": -114.0555833
         },
         "display_phone": "+1 403-460-6668",
         "distance": 689.2875910011272,
         "id": "vggAigqfXUqSakdVZe3zJw",
         "image_url": "https://s3-media2.fl.yelpcdn.com/bphoto/cD-2Dxup9HBwez5wA10nPQ/o.jpg",
         "is_closed": false,
         "location": {
          "address1": "401 11 Avenue  SE",
          "address2": "",
          "address3": null,
          "city": "Calgary",
          "country": "CA",
          "display_address": [
           "401 11 Avenue  SE",
           "Calgary, AB T2G 0Y5",
           "Canada"
          ],
          "state": "AB",
          "zip_code": "T2G 0Y5"
         },
         "name": "ZCREW Cafe",
         "phone": "+14034606668",
         "rating": 4.5,
         "review_count": 59,
         "transactions": [],
         "url": "https://www.yelp.com/biz/zcrew-cafe-calgary?adjust_creative=p3MulaJR4fK5L0ExFRIgWQ&utm_campaign=yelp_api_v3&utm_medium=api_v3_business_search&utm_source=p3MulaJR4fK5L0ExFRIgWQ"
        },
        {
         "alias": "broken-city-social-club-calgary",
         "categories": [
          {
           "alias": "musicvenues",
           "title": "Music Venues"
          },
          {
           "alias": "divebars",
           "title": "Dive Bars"
          }
         ],
         "coordinates": {
          "latitude": 51.0424099,
          "longitude": -114.07501
         },
         "display_phone": "+1 403-262-9976",
         "distance": 1242.0153644944646,
         "id": "u_ieGAM5D9uO2L0rBN4pbA",
         "image_url": "https://s3-media4.fl.yelpcdn.com/bphoto/JIc1HvZCt266O6_CyVzymw/o.jpg",
         "is_closed": false,
         "location": {
          "address1": "613 11 Avenue SW",
          "address2": "",
          "address3": "",
          "city": "Calgary",
          "country": "CA",
          "display_address": [
           "613 11 Avenue SW",
           "Calgary, AB T2R 0E1",
           "Canada"
          ],
          "state": "AB",
          "zip_code": "T2R 0E1"
         },
         "name": "Broken City Social Club",
         "phone": "+14032629976",
         "price": "$$",
         "rating": 4,
         "review_count": 65,
         "transactions": [],
         "url": "https://www.yelp.com/biz/broken-city-social-club-calgary?adjust_creative=p3MulaJR4fK5L0ExFRIgWQ&utm_campaign=yelp_api_v3&utm_medium=api_v3_business_search&utm_source=p3MulaJR4fK5L0ExFRIgWQ"
        },
        {
         "alias": "the-shoe-and-canoe-public-house-calgary",
         "categories": [
          {
           "alias": "newcanadian",
           "title": "Canadian (New)"
          },
          {
           "alias": "bars",
           "title": "Bars"
          }
         ],
         "coordinates": {
          "latitude": 51.04899,
          "longitude": -114.05961
         },
         "display_phone": "+1 403-205-5416",
         "distance": 138.04539633980025,
         "id": "k6JtAWbKQrIhCxV5jdk8mw",
         "image_url": "https://s3-media2.fl.yelpcdn.com/bphoto/bGWn0_sowi-8JeEnvk6EWg/o.jpg",
         "is_closed": false,
         "location": {
          "address1": "209 Fourth Avenue SE",
          "address2": null,
          "address3": "",
          "city": "Calgary",
          "country": "CA",
          "display_address": [
           "209 Fourth Avenue SE",
           "Calgary, AB T2G 0C6",
           "Canada"
          ],
          "state": "AB",
          "zip_code": "T2G 0C6"
         },
         "name": "The Shoe & Canoe Public House",
         "phone": "+14032055416",
         "rating": 4,
         "review_count": 14,
         "transactions": [],
         "url": "https://www.yelp.com/biz/the-shoe-and-canoe-public-house-calgary?adjust_creative=p3MulaJR4fK5L0ExFRIgWQ&utm_campaign=yelp_api_v3&utm_medium=api_v3_business_search&utm_source=p3MulaJR4fK5L0ExFRIgWQ"
        },
        {
         "alias": "rooftop-bar-simmons-calgary",
         "categories": [
          {
           "alias": "newcanadian",
           "title": "Canadian (New)"
          },
          {
           "alias": "bars",
           "title": "Bars"
          },
          {
           "alias": "pizza",
           "title": "Pizza"
          }
         ],
         "coordinates": {
          "latitude": 51.04779,
          "longitude": -114.04979
         },
         "display_phone": "+1 403-452-3115",
         "distance": 662.0910510734831,
         "id": "IWBiZ2hk1pr05JTIfcSNEw",
         "image_url": "https://s3-media3.fl.yelpcdn.com/bphoto/rHXSwq2VZxY2ZKi5ZMwryQ/o.jpg",
         "is_closed": false,
         "location": {
          "address1": "618 Confluence Way SE",
          "address2": "",
          "address3": "",
          "city": "Calgary",
          "country": "CA",
          "display_address": [
           "618 Confluence Way SE",
           "Calgary, AB T2G 0G1",
           "Canada"
          ],
          "state": "AB",
          "zip_code": "T2G 0G1"
         },
         "name": "Rooftop Bar @ Simmons",
         "phone": "+14034523115",
         "price": "$$",
         "rating": 3,
         "review_count": 16,
         "transactions": [],
         "url": "https://www.yelp.com/biz/rooftop-bar-simmons-calgary?adjust_creative=p3MulaJR4fK5L0ExFRIgWQ&utm_campaign=yelp_api_v3&utm_medium=api_v3_business_search&utm_source=p3MulaJR4fK5L0ExFRIgWQ"
        },
        {
         "alias": "bridgette-bar-calgary",
         "categories": [
          {
           "alias": "bars",
           "title": "Bars"
          },
          {
           "alias": "newcanadian",
           "title": "Canadian (New)"
          }
         ],
         "coordinates": {
          "latitude": 51.04365,
          "longitude": -114.07869
         },
         "display_phone": "",
         "distance": 1440.7690581167499,
         "id": "veeI8Kx2kAeQ8w-dNuUDoQ",
         "image_url": "https://s3-media3.fl.yelpcdn.com/bphoto/lZaqZjiFTCBT-r5HkzmwOA/o.jpg",
         "is_closed": false,
         "location": {
          "address1": "739 10 Avenue SW",
          "address2": null,
          "address3": null,
          "city": "Calgary",
          "country": "CA",
          "display_address": [
           "739 10 Avenue SW",
           "Calgary, AB T2R 0B3",
           "Canada"
          ],
          "state": "AB",
          "zip_code": "T2R 0B3"
         },
         "name": "Bridgette Bar",
         "phone": "",
         "price": "$$$",
         "rating": 4.5,
         "review_count": 73,
         "transactions": [],
         "url": "https://www.yelp.com/biz/bridgette-bar-calgary?adjust_creative=p3MulaJR4fK5L0ExFRIgWQ&utm_campaign=yelp_api_v3&utm_medium=api_v3_business_search&utm_source=p3MulaJR4fK5L0ExFRIgWQ"
        },
        {
         "alias": "modern-ocean-calgary-2",
         "categories": [
          {
           "alias": "seafood",
           "title": "Seafood"
          },
          {
           "alias": "cocktailbars",
           "title": "Cocktail Bars"
          }
         ],
         "coordinates": {
          "latitude": 51.05227111560444,
          "longitude": -114.08751671584335
         },
         "display_phone": "+1 403-670-6873",
         "distance": 2034.08863626248,
         "id": "ZncHhvcg6lolKEeeNxHoqw",
         "image_url": "https://s3-media3.fl.yelpcdn.com/bphoto/f0QXRUw_ed5vmmejyWl3iQ/o.jpg",
         "is_closed": false,
         "location": {
          "address1": "107 10A Street NW",
          "address2": "",
          "address3": "",
          "city": "Calgary",
          "country": "CA",
          "display_address": [
           "107 10A Street NW",
           "Calgary, AB T2N 4T3",
           "Canada"
          ],
          "state": "AB",
          "zip_code": "T2N 4T3"
         },
         "name": "Modern Ocean",
         "phone": "+14036706873",
         "price": "$$$",
         "rating": 4,
         "review_count": 89,
         "transactions": [],
         "url": "https://www.yelp.com/biz/modern-ocean-calgary-2?adjust_creative=p3MulaJR4fK5L0ExFRIgWQ&utm_campaign=yelp_api_v3&utm_medium=api_v3_business_search&utm_source=p3MulaJR4fK5L0ExFRIgWQ"
        },
        {
         "alias": "alumni-sandwich-and-liquor-bar-calgary-3",
         "categories": [
          {
           "alias": "sandwiches",
           "title": "Sandwiches"
          },
          {
           "alias": "cocktailbars",
           "title": "Cocktail Bars"
          }
         ],
         "coordinates": {
          "latitude": 51.037688802805,
          "longitude": -114.078718721867
         },
         "display_phone": "+1 403-455-7255",
         "distance": 1762.7241387508,
         "id": "5vIguZEG-N9PI21C7GcmgQ",
         "image_url": "https://s3-media2.fl.yelpcdn.com/bphoto/o6s0KYOqjuOj8mKdA3KT9Q/o.jpg",
         "is_closed": false,
         "location": {
          "address1": "725 17 Ave SW",
          "address2": "",
          "address3": null,
          "city": "Calgary",
          "country": "CA",
          "display_address": [
           "725 17 Ave SW",
           "Calgary, AB T2S 0B6",
           "Canada"
          ],
          "state": "AB",
          "zip_code": "T2S 0B6"
         },
         "name": "Alumni Sandwich & Liquor Bar",
         "phone": "+14034557255",
         "rating": 4.5,
         "review_count": 56,
         "transactions": [],
         "url": "https://www.yelp.com/biz/alumni-sandwich-and-liquor-bar-calgary-3?adjust_creative=p3MulaJR4fK5L0ExFRIgWQ&utm_campaign=yelp_api_v3&utm_medium=api_v3_business_search&utm_source=p3MulaJR4fK5L0ExFRIgWQ"
        },
        {
         "alias": "vegan-street-calgary",
         "categories": [
          {
           "alias": "vegan",
           "title": "Vegan"
          },
          {
           "alias": "cocktailbars",
           "title": "Cocktail Bars"
          }
         ],
         "coordinates": {
          "latitude": 51.0422383864971,
          "longitude": -114.079330936074
         },
         "display_phone": "+1 403-454-3287",
         "distance": 1530.8231042921616,
         "id": "MtC9d-lGBGCnmfo8UAtFvw",
         "image_url": "https://s3-media1.fl.yelpcdn.com/bphoto/k9Q6kYgVkod1jHkQKFIKcQ/o.jpg",
         "is_closed": false,
         "location": {
          "address1": "1111 7 Street SW",
          "address2": "",
          "address3": null,
          "city": "Calgary",
          "country": "CA",
          "display_address": [
           "1111 7 Street SW",
           "Calgary, AB T2R 1A1",
           "Canada"
          ],
          "state": "AB",
          "zip_code": "T2R 1A1"
         },
         "name": "Vegan Street",
         "phone": "+14034543287",
         "rating": 5,
         "review_count": 12,
         "transactions": [],
         "url": "https://www.yelp.com/biz/vegan-street-calgary?adjust_creative=p3MulaJR4fK5L0ExFRIgWQ&utm_campaign=yelp_api_v3&utm_medium=api_v3_business_search&utm_source=p3MulaJR4fK5L0ExFRIgWQ"
        },
        {
         "alias": "bonasera-calgary",
         "categories": [
          {
           "alias": "pizza",
           "title": "Pizza"
          },
          {
           "alias": "sportsbars",
           "title": "Sports Bars"
          }
         ],
         "coordinates": {
          "latitude": 51.06278162494415,
          "longitude": -114.0553642245369
         },
         "display_phone": "+1 403-276-9116",
         "distance": 1688.4385197335164,
         "id": "5s9pV_v2-o9YlVvkBpQHwg",
         "image_url": "https://s3-media4.fl.yelpcdn.com/bphoto/_TrtU3MzjIuskj9pSP-IoQ/o.jpg",
         "is_closed": false,
         "location": {
          "address1": "2-1204 Edmonton Trail NE",
          "address2": "",
          "address3": "",
          "city": "Calgary",
          "country": "CA",
          "display_address": [
           "2-1204 Edmonton Trail NE",
           "Calgary, AB T2E 3K5",
           "Canada"
          ],
          "state": "AB",
          "zip_code": "T2E 3K5"
         },
         "name": "Bonasera",
         "phone": "+14032769116",
         "price": "$$",
         "rating": 4,
         "review_count": 7,
         "transactions": [],
         "url": "https://www.yelp.com/biz/bonasera-calgary?adjust_creative=p3MulaJR4fK5L0ExFRIgWQ&utm_campaign=yelp_api_v3&utm_medium=api_v3_business_search&utm_source=p3MulaJR4fK5L0ExFRIgWQ"
        },
        {
         "alias": "madisons-12-12-calgary",
         "categories": [
          {
           "alias": "tradamerican",
           "title": "American (Traditional)"
          }
         ],
         "coordinates": {
          "latitude": 51.04213,
          "longitude": -114.03589
         },
         "display_phone": "+1 403-452-4970",
         "distance": 1751.4884505108396,
         "id": "OAchWMLU-guo6wdIjdlt0g",
         "image_url": "https://s3-media1.fl.yelpcdn.com/bphoto/xlVz-eZ_Fzc8oa0Z_ltYyw/o.jpg",
         "is_closed": false,
         "location": {
          "address1": "1212 9 Avenue SE",
          "address2": "",
          "address3": null,
          "city": "Calgary",
          "country": "CA",
          "display_address": [
           "1212 9 Avenue SE",
           "Calgary, AB T2G 0T1",
           "Canada"
          ],
          "state": "AB",
          "zip_code": "T2G 0T1"
         },
         "name": "Madison's 12|12",
         "phone": "+14034524970",
         "price": "$$",
         "rating": 3.5,
         "review_count": 44,
         "transactions": [],
         "url": "https://www.yelp.com/biz/madisons-12-12-calgary?adjust_creative=p3MulaJR4fK5L0ExFRIgWQ&utm_campaign=yelp_api_v3&utm_medium=api_v3_business_search&utm_source=p3MulaJR4fK5L0ExFRIgWQ"
        },
        {
         "alias": "pigeonhole-calgary",
         "categories": [
          {
           "alias": "cocktailbars",
           "title": "Cocktail Bars"
          },
          {
           "alias": "wine_bars",
           "title": "Wine Bars"
          },
          {
           "alias": "newcanadian",
           "title": "Canadian (New)"
          }
         ],
         "coordinates": {
          "latitude": 51.0379785995401,
          "longitude": -114.068904064582
         },
         "display_phone": "+1 403-452-4694",
         "distance": 1281.988432397232,
         "id": "rkSsGcSYlzwJZFQ2WUMj5w",
         "image_url": "https://s3-media4.fl.yelpcdn.com/bphoto/7WG4E7JCOEvj_nNoel03Jg/o.jpg",
         "is_closed": false,
         "location": {
          "address1": "306 17th Avenue SW",
          "address2": "",
          "address3": "",
          "city": "Calgary",
          "country": "CA",
          "display_address": [
           "306 17th Avenue SW",
           "Calgary, AB T2S 0A8",
           "Canada"
          ],
          "state": "AB",
          "zip_code": "T2S 0A8"
         },
         "name": "Pigeonhole",
         "phone": "+14034524694",
         "price": "$$",
         "rating": 4,
         "review_count": 103,
         "transactions": [],
         "url": "https://www.yelp.com/biz/pigeonhole-calgary?adjust_creative=p3MulaJR4fK5L0ExFRIgWQ&utm_campaign=yelp_api_v3&utm_medium=api_v3_business_search&utm_source=p3MulaJR4fK5L0ExFRIgWQ"
        },
        {
         "alias": "hayden-block-smoke-and-whiskey-calgary-3",
         "categories": [
          {
           "alias": "bbq",
           "title": "Barbeque"
          },
          {
           "alias": "whiskeybars",
           "title": "Whiskey Bars"
          },
          {
           "alias": "sandwiches",
           "title": "Sandwiches"
          }
         ],
         "coordinates": {
          "latitude": 51.0526549,
          "longitude": -114.0882959
         },
         "display_phone": "+1 403-283-3021",
         "distance": 2097.513085009588,
         "id": "EZ3vflgYwoBAJDrhc0TCbw",
         "image_url": "https://s3-media2.fl.yelpcdn.com/bphoto/oYultkxGgwcHK18gaCbfLA/o.jpg",
         "is_closed": false,
         "location": {
          "address1": "1136 Kensington Road NW",
          "address2": "",
          "address3": null,
          "city": "Calgary",
          "country": "CA",
          "display_address": [
           "1136 Kensington Road NW",
           "Calgary, AB T2N 3P3",
           "Canada"
          ],
          "state": "AB",
          "zip_code": "T2N 3P3"
         },
         "name": "Hayden Block Smoke & Whiskey",
         "phone": "+14032833021",
         "price": "$$",
         "rating": 4,
         "review_count": 190,
         "transactions": [],
         "url": "https://www.yelp.com/biz/hayden-block-smoke-and-whiskey-calgary-3?adjust_creative=p3MulaJR4fK5L0ExFRIgWQ&utm_campaign=yelp_api_v3&utm_medium=api_v3_business_search&utm_source=p3MulaJR4fK5L0ExFRIgWQ"
        },
        {
         "alias": "the-holy-grill-calgary",
         "categories": [
          {
           "alias": "burgers",
           "title": "Burgers"
          },
          {
           "alias": "sandwiches",
           "title": "Sandwiches"
          },
          {
           "alias": "breakfast_brunch",
           "title": "Breakfast & Brunch"
          }
         ],
         "coordinates": {
          "latitude": 51.043715684084,
          "longitude": -114.08078395126
         },
         "display_phone": "+1 403-261-9759",
         "distance": 1569.0660115280082,
         "id": "aBHpHQCgpPvBRQvK7ySLIA",
         "image_url": "https://s3-media3.fl.yelpcdn.com/bphoto/Pe7LE3YW94H2fwASDyQwXg/o.jpg",
         "is_closed": false,
         "location": {
          "address1": "827 10th Avenue SW",
          "address2": "",
          "address3": "",
          "city": "Calgary",
          "country": "CA",
          "display_address": [
           "827 10th Avenue SW",
           "Calgary, AB T2R 0B4",
           "Canada"
          ],
          "state": "AB",
          "zip_code": "T2R 0B4"
         },
         "name": "The Holy Grill",
         "phone": "+14032619759",
         "price": "$$",
         "rating": 4.5,
         "review_count": 176,
         "transactions": [],
         "url": "https://www.yelp.com/biz/the-holy-grill-calgary?adjust_creative=p3MulaJR4fK5L0ExFRIgWQ&utm_campaign=yelp_api_v3&utm_medium=api_v3_business_search&utm_source=p3MulaJR4fK5L0ExFRIgWQ"
        },
        {
         "alias": "the-nash-calgary",
         "categories": [
          {
           "alias": "bars",
           "title": "Bars"
          },
          {
           "alias": "newcanadian",
           "title": "Canadian (New)"
          }
         ],
         "coordinates": {
          "latitude": 51.0414147680944,
          "longitude": -114.03700131923
         },
         "display_phone": "+1 403-984-3365",
         "distance": 1712.9705975251359,
         "id": "-Miw03v5yXJWjH9MN1aglw",
         "image_url": "https://s3-media2.fl.yelpcdn.com/bphoto/UqX3ImwFoPAIUAeufvNpKg/o.jpg",
         "is_closed": false,
         "location": {
          "address1": "925 11th Street SE",
          "address2": "",
          "address3": "",
          "city": "Calgary",
          "country": "CA",
          "display_address": [
           "925 11th Street SE",
           "Calgary, AB T2G 0S8",
           "Canada"
          ],
          "state": "AB",
          "zip_code": "T2G 0S8"
         },
         "name": "The Nash",
         "phone": "+14039843365",
         "price": "$$$",
         "rating": 4,
         "review_count": 132,
         "transactions": [],
         "url": "https://www.yelp.com/biz/the-nash-calgary?adjust_creative=p3MulaJR4fK5L0ExFRIgWQ&utm_campaign=yelp_api_v3&utm_medium=api_v3_business_search&utm_source=p3MulaJR4fK5L0ExFRIgWQ"
        },
        {
         "alias": "winebar-kensington-calgary",
         "categories": [
          {
           "alias": "tapas",
           "title": "Tapas Bars"
          },
          {
           "alias": "wine_bars",
           "title": "Wine Bars"
          }
         ],
         "coordinates": {
          "latitude": 51.0523298,
          "longitude": -114.0877912
         },
         "display_phone": "+1 403-457-1144",
         "distance": 2054.2879486232364,
         "id": "N8SM0gAAconqpqDb5fngTQ",
         "image_url": "https://s3-media4.fl.yelpcdn.com/bphoto/RcEh6o_6lkCvXC75MYYmug/o.jpg",
         "is_closed": false,
         "location": {
          "address1": "1131 Kensington Road NW",
          "address2": "",
          "address3": "",
          "city": "Calgary",
          "country": "CA",
          "display_address": [
           "1131 Kensington Road NW",
           "Calgary, AB T2N 3P4",
           "Canada"
          ],
          "state": "AB",
          "zip_code": "T2N 3P4"
         },
         "name": "Winebar Kensington",
         "phone": "+14034571144",
         "price": "$$",
         "rating": 4.5,
         "review_count": 40,
         "transactions": [],
         "url": "https://www.yelp.com/biz/winebar-kensington-calgary?adjust_creative=p3MulaJR4fK5L0ExFRIgWQ&utm_campaign=yelp_api_v3&utm_medium=api_v3_business_search&utm_source=p3MulaJR4fK5L0ExFRIgWQ"
        },
        {
         "alias": "hys-steakhouse-and-cocktail-bar-calgary-3",
         "categories": [
          {
           "alias": "steak",
           "title": "Steakhouses"
          },
          {
           "alias": "lounges",
           "title": "Lounges"
          }
         ],
         "coordinates": {
          "latitude": 51.0459732605428,
          "longitude": -114.070798493922
         },
         "display_phone": "+1 403-663-3363",
         "distance": 829.0859757256354,
         "id": "smrnVFT6UvNTPGqThtoYhA",
         "image_url": "https://s3-media2.fl.yelpcdn.com/bphoto/s2Ny5FoBHgZUISDlzRPSGA/o.jpg",
         "is_closed": false,
         "location": {
          "address1": "8th Avenue and 3rd Street",
          "address2": "",
          "address3": "",
          "city": "Calgary",
          "country": "CA",
          "display_address": [
           "8th Avenue and 3rd Street",
           "Calgary, AB T2P 4K8",
           "Canada"
          ],
          "state": "AB",
          "zip_code": "T2P 4K8"
         },
         "name": "Hy's Steakhouse & Cocktail Bar",
         "phone": "+14036633363",
         "price": "$$$$",
         "rating": 4.5,
         "review_count": 68,
         "transactions": [],
         "url": "https://www.yelp.com/biz/hys-steakhouse-and-cocktail-bar-calgary-3?adjust_creative=p3MulaJR4fK5L0ExFRIgWQ&utm_campaign=yelp_api_v3&utm_medium=api_v3_business_search&utm_source=p3MulaJR4fK5L0ExFRIgWQ"
        },
        {
         "alias": "the-blues-can-calgary",
         "categories": [
          {
           "alias": "jazzandblues",
           "title": "Jazz & Blues"
          },
          {
           "alias": "bars",
           "title": "Bars"
          },
          {
           "alias": "cajun",
           "title": "Cajun/Creole"
          }
         ],
         "coordinates": {
          "latitude": 51.03925,
          "longitude": -114.02999
         },
         "display_phone": "+1 403-262-2666",
         "distance": 2257.609894809702,
         "id": "MvTct3b0KLAO3wDWweTS_A",
         "image_url": "https://s3-media1.fl.yelpcdn.com/bphoto/BGfcQBEi_G_j9aPjWD7WYQ/o.jpg",
         "is_closed": false,
         "location": {
          "address1": "1429 9 Avenue SE",
          "address2": "",
          "address3": "",
          "city": "Calgary",
          "country": "CA",
          "display_address": [
           "1429 9 Avenue SE",
           "Calgary, AB T2G 0T4",
           "Canada"
          ],
          "state": "AB",
          "zip_code": "T2G 0T4"
         },
         "name": "The Blues Can",
         "phone": "+14032622666",
         "price": "$$",
         "rating": 4,
         "review_count": 34,
         "transactions": [],
         "url": "https://www.yelp.com/biz/the-blues-can-calgary?adjust_creative=p3MulaJR4fK5L0ExFRIgWQ&utm_campaign=yelp_api_v3&utm_medium=api_v3_business_search&utm_source=p3MulaJR4fK5L0ExFRIgWQ"
        },
        {
         "alias": "dairy-lane-café-calgary-2",
         "categories": [
          {
           "alias": "breakfast_brunch",
           "title": "Breakfast & Brunch"
          },
          {
           "alias": "burgers",
           "title": "Burgers"
          },
          {
           "alias": "wine_bars",
           "title": "Wine Bars"
          }
         ],
         "coordinates": {
          "latitude": 51.055060310955,
          "longitude": -114.10578192162
         },
         "display_phone": "+1 403-283-2497",
         "distance": 3347.861476579874,
         "id": "CE7hNKYS6gIMKv6jK429uQ",
         "image_url": "https://s3-media2.fl.yelpcdn.com/bphoto/d2a-jdvFf4fbLNOP1Vxzvg/o.jpg",
         "is_closed": false,
         "location": {
          "address1": "319 19th Street NW",
          "address2": "",
          "address3": "",
          "city": "Calgary",
          "country": "CA",
          "display_address": [
           "319 19th Street NW",
           "Calgary, AB T2N 2J2",
           "Canada"
          ],
          "state": "AB",
          "zip_code": "T2N 2J2"
         },
         "name": "Dairy Lane Café",
         "phone": "+14032832497",
         "price": "$$",
         "rating": 4,
         "review_count": 213,
         "transactions": [],
         "url": "https://www.yelp.com/biz/dairy-lane-caf%C3%A9-calgary-2?adjust_creative=p3MulaJR4fK5L0ExFRIgWQ&utm_campaign=yelp_api_v3&utm_medium=api_v3_business_search&utm_source=p3MulaJR4fK5L0ExFRIgWQ"
        },
        {
         "alias": "embarcadero-wine-and-oyster-bar-calgary",
         "categories": [
          {
           "alias": "seafood",
           "title": "Seafood"
          },
          {
           "alias": "wine_bars",
           "title": "Wine Bars"
          }
         ],
         "coordinates": {
          "latitude": 51.03798,
          "longitude": -114.06057
         },
         "display_phone": "+1 403-263-0848",
         "distance": 1083.2074024056417,
         "id": "Sny6BbdL0I-_q3RM-Hm3LA",
         "image_url": "https://s3-media2.fl.yelpcdn.com/bphoto/8E--Qsc3hNR1keOtMmsgiw/o.jpg",
         "is_closed": false,
         "location": {
          "address1": "208 17 Avenue SE",
          "address2": "",
          "address3": "",
          "city": "Calgary",
          "country": "CA",
          "display_address": [
           "208 17 Avenue SE",
           "Calgary, AB T2G 1H4",
           "Canada"
          ],
          "state": "AB",
          "zip_code": "T2G 1H4"
         },
         "name": "Embarcadero Wine & Oyster Bar",
         "phone": "+14032630848",
         "price": "$$$",
         "rating": 4,
         "review_count": 33,
         "transactions": [],
         "url": "https://www.yelp.com/biz/embarcadero-wine-and-oyster-bar-calgary?adjust_creative=p3MulaJR4fK5L0ExFRIgWQ&utm_campaign=yelp_api_v3&utm_medium=api_v3_business_search&utm_source=p3MulaJR4fK5L0ExFRIgWQ"
        },
        {
         "alias": "joey-eau-claire-calgary-2",
         "categories": [
          {
           "alias": "newcanadian",
           "title": "Canadian (New)"
          },
          {
           "alias": "lounges",
           "title": "Lounges"
          }
         ],
         "coordinates": {
          "latitude": 51.0521270868235,
          "longitude": -114.069349095225
         },
         "display_phone": "+1 403-263-6336",
         "distance": 851.4342779476959,
         "id": "cWMzXTtdaZy6HTyEB3YoNw",
         "image_url": "https://s3-media2.fl.yelpcdn.com/bphoto/qJYjniq3ybL8WxZ18SymKg/o.jpg",
         "is_closed": false,
         "location": {
          "address1": "208 Barclay Parade SW",
          "address2": "200 Eau Claire Market",
          "address3": "",
          "city": "Calgary",
          "country": "CA",
          "display_address": [
           "208 Barclay Parade SW",
           "200 Eau Claire Market",
           "Calgary, AB T2P 4R5",
           "Canada"
          ],
          "state": "AB",
          "zip_code": "T2P 4R5"
         },
         "name": "JOEY Eau Claire",
         "phone": "+14032636336",
         "price": "$$",
         "rating": 4,
         "review_count": 110,
         "transactions": [],
         "url": "https://www.yelp.com/biz/joey-eau-claire-calgary-2?adjust_creative=p3MulaJR4fK5L0ExFRIgWQ&utm_campaign=yelp_api_v3&utm_medium=api_v3_business_search&utm_source=p3MulaJR4fK5L0ExFRIgWQ"
        },
        {
         "alias": "milk-tiger-lounge-calgary",
         "categories": [
          {
           "alias": "lounges",
           "title": "Lounges"
          },
          {
           "alias": "tapasmallplates",
           "title": "Tapas/Small Plates"
          },
          {
           "alias": "cocktailbars",
           "title": "Cocktail Bars"
          }
         ],
         "coordinates": {
          "latitude": 51.0393417,
          "longitude": -114.0713437
         },
         "display_phone": "+1 403-261-5009",
         "distance": 1262.3497348372944,
         "id": "rnwS-F6u8UlgKGoDodX7-Q",
         "image_url": "https://s3-media4.fl.yelpcdn.com/bphoto/GtX9tnIcbDHYzi0iB1SMNQ/o.jpg",
         "is_closed": false,
         "location": {
          "address1": "1410 4th St SW",
          "address2": "",
          "address3": "",
          "city": "Calgary",
          "country": "CA",
          "display_address": [
           "1410 4th St SW",
           "Calgary, AB T2R 0Y1",
           "Canada"
          ],
          "state": "AB",
          "zip_code": "T2R 0Y1"
         },
         "name": "Milk Tiger Lounge",
         "phone": "+14032615009",
         "price": "$$",
         "rating": 4,
         "review_count": 52,
         "transactions": [],
         "url": "https://www.yelp.com/biz/milk-tiger-lounge-calgary?adjust_creative=p3MulaJR4fK5L0ExFRIgWQ&utm_campaign=yelp_api_v3&utm_medium=api_v3_business_search&utm_source=p3MulaJR4fK5L0ExFRIgWQ"
        },
        {
         "alias": "deane-house-calgary",
         "categories": [
          {
           "alias": "newcanadian",
           "title": "Canadian (New)"
          },
          {
           "alias": "bars",
           "title": "Bars"
          }
         ],
         "coordinates": {
          "latitude": 51.0435954,
          "longitude": -114.0418843
         },
         "display_phone": "+1 403-264-0595",
         "distance": 1293.3551930040917,
         "id": "0s9vGaskLUETph04yZy1Iw",
         "image_url": "https://s3-media4.fl.yelpcdn.com/bphoto/6SpKuivuzoEsrt_sMCrNJQ/o.jpg",
         "is_closed": false,
         "location": {
          "address1": "806 9th Avenue SE",
          "address2": "",
          "address3": "",
          "city": "Calgary",
          "country": "CA",
          "display_address": [
           "806 9th Avenue SE",
           "Calgary, AB T2G 0S2",
           "Canada"
          ],
          "state": "AB",
          "zip_code": "T2G 0S2"
         },
         "name": "Deane House",
         "phone": "+14032640595",
         "price": "$$",
         "rating": 4,
         "review_count": 43,
         "transactions": [],
         "url": "https://www.yelp.com/biz/deane-house-calgary?adjust_creative=p3MulaJR4fK5L0ExFRIgWQ&utm_campaign=yelp_api_v3&utm_medium=api_v3_business_search&utm_source=p3MulaJR4fK5L0ExFRIgWQ"
        },
        {
         "alias": "oeb-breakfast-calgary-19",
         "categories": [
          {
           "alias": "breakfast_brunch",
           "title": "Breakfast & Brunch"
          }
         ],
         "coordinates": {
          "latitude": 51.0530851,
          "longitude": -114.0439947
         },
         "display_phone": "+1 403-278-3447",
         "distance": 1218.349783845211,
         "id": "5aK167zvZhGs_i7Vf4A1NQ",
         "image_url": "https://s3-media2.fl.yelpcdn.com/bphoto/GAoU-rXVso7GDwSm4C1B2A/o.jpg",
         "is_closed": false,
         "location": {
          "address1": "825 1 Avenue NE",
          "address2": "",
          "address3": null,
          "city": "Calgary",
          "country": "CA",
          "display_address": [
           "825 1 Avenue NE",
           "Calgary, AB T2E 0C4",
           "Canada"
          ],
          "state": "AB",
          "zip_code": "T2E 0C4"
         },
         "name": "OEB Breakfast",
         "phone": "+14032783447",
         "price": "$$",
         "rating": 4.5,
         "review_count": 534,
         "transactions": [],
         "url": "https://www.yelp.com/biz/oeb-breakfast-calgary-19?adjust_creative=p3MulaJR4fK5L0ExFRIgWQ&utm_campaign=yelp_api_v3&utm_medium=api_v3_business_search&utm_source=p3MulaJR4fK5L0ExFRIgWQ"
        },
        {
         "alias": "the-coup-calgary",
         "categories": [
          {
           "alias": "vegetarian",
           "title": "Vegetarian"
          },
          {
           "alias": "cocktailbars",
           "title": "Cocktail Bars"
          },
          {
           "alias": "tapasmallplates",
           "title": "Tapas/Small Plates"
          }
         ],
         "coordinates": {
          "latitude": 51.03798,
          "longitude": -114.08323
         },
         "display_phone": "+1 403-541-1041",
         "distance": 1993.6947794963557,
         "id": "9tgJbLfCQcZ35-TSabZOfA",
         "image_url": "https://s3-media3.fl.yelpcdn.com/bphoto/MVoEzc6hb5PRc901Gb3zYw/o.jpg",
         "is_closed": false,
         "location": {
          "address1": "924 17th Avenue SW",
          "address2": "",
          "address3": "",
          "city": "Calgary",
          "country": "CA",
          "display_address": [
           "924 17th Avenue SW",
           "Calgary, AB T2T 0A2",
           "Canada"
          ],
          "state": "AB",
          "zip_code": "T2T 0A2"
         },
         "name": "The Coup",
         "phone": "+14035411041",
         "price": "$$",
         "rating": 4,
         "review_count": 243,
         "transactions": [],
         "url": "https://www.yelp.com/biz/the-coup-calgary?adjust_creative=p3MulaJR4fK5L0ExFRIgWQ&utm_campaign=yelp_api_v3&utm_medium=api_v3_business_search&utm_source=p3MulaJR4fK5L0ExFRIgWQ"
        },
        {
         "alias": "the-highwood-calgary",
         "categories": [
          {
           "alias": "buffets",
           "title": "Buffets"
          },
          {
           "alias": "tradamerican",
           "title": "American (Traditional)"
          }
         ],
         "coordinates": {
          "latitude": 51.0650543291267,
          "longitude": -114.086896644955
         },
         "display_phone": "+1 403-284-8615",
         "distance": 2720.5158481216113,
         "id": "MJ_5HIvJMqu1fREQgUjWTA",
         "image_url": "https://s3-media2.fl.yelpcdn.com/bphoto/5ZUB6bvHfO3D3o7SaOQJ3A/o.jpg",
         "is_closed": false,
         "location": {
          "address1": "1301 16th Avenue NW",
          "address2": "",
          "address3": "",
          "city": "Calgary",
          "country": "CA",
          "display_address": [
           "1301 16th Avenue NW",
           "Calgary, AB T2M 4W7",
           "Canada"
          ],
          "state": "AB",
          "zip_code": "T2M 4W7"
         },
         "name": "The Highwood",
         "phone": "+14032848615",
         "price": "$$",
         "rating": 4,
         "review_count": 18,
         "transactions": [],
         "url": "https://www.yelp.com/biz/the-highwood-calgary?adjust_creative=p3MulaJR4fK5L0ExFRIgWQ&utm_campaign=yelp_api_v3&utm_medium=api_v3_business_search&utm_source=p3MulaJR4fK5L0ExFRIgWQ"
        },
        {
         "alias": "mercato-italian-gourmet-calgary",
         "categories": [
          {
           "alias": "italian",
           "title": "Italian"
          }
         ],
         "coordinates": {
          "latitude": 51.0326403470061,
          "longitude": -114.071305115719
         },
         "display_phone": "+1 403-263-5535",
         "distance": 1883.0869516480375,
         "id": "FyTX0kl3D2VJ1jp1HRXALg",
         "image_url": "https://s3-media2.fl.yelpcdn.com/bphoto/pefiy2rS4hrHsESbFZPoWg/o.jpg",
         "is_closed": false,
         "location": {
          "address1": "2224 4th Street SW",
          "address2": "",
          "address3": "",
          "city": "Calgary",
          "country": "CA",
          "display_address": [
           "2224 4th Street SW",
           "Calgary, AB T2S 0H3",
           "Canada"
          ],
          "state": "AB",
          "zip_code": "T2S 0H3"
         },
         "name": "Mercato Italian Gourmet",
         "phone": "+14032635535",
         "price": "$$$",
         "rating": 4,
         "review_count": 118,
         "transactions": [],
         "url": "https://www.yelp.com/biz/mercato-italian-gourmet-calgary?adjust_creative=p3MulaJR4fK5L0ExFRIgWQ&utm_campaign=yelp_api_v3&utm_medium=api_v3_business_search&utm_source=p3MulaJR4fK5L0ExFRIgWQ"
        },
        {
         "alias": "milestones-calgary-3",
         "categories": [
          {
           "alias": "newcanadian",
           "title": "Canadian (New)"
          },
          {
           "alias": "bars",
           "title": "Bars"
          },
          {
           "alias": "steak",
           "title": "Steakhouses"
          }
         ],
         "coordinates": {
          "latitude": 51.0453619,
          "longitude": -114.0626244
         },
         "display_phone": "+1 403-410-9521",
         "distance": 348.9488343559894,
         "id": "LlJn7Q7Ow0lwQpk4gg0KeQ",
         "image_url": "https://s3-media4.fl.yelpcdn.com/bphoto/KAxbP23tLLpNWFKMc_q-UQ/o.jpg",
         "is_closed": false,
         "location": {
          "address1": "107 8th Avenue SE",
          "address2": "",
          "address3": "",
          "city": "Calgary",
          "country": "CA",
          "display_address": [
           "107 8th Avenue SE",
           "Calgary, AB T2G 0K4",
           "Canada"
          ],
          "state": "AB",
          "zip_code": "T2G 0K4"
         },
         "name": "Milestones",
         "phone": "+14034109521",
         "price": "$$",
         "rating": 3.5,
         "review_count": 98,
         "transactions": [],
         "url": "https://www.yelp.com/biz/milestones-calgary-3?adjust_creative=p3MulaJR4fK5L0ExFRIgWQ&utm_campaign=yelp_api_v3&utm_medium=api_v3_business_search&utm_source=p3MulaJR4fK5L0ExFRIgWQ"
        },
        {
         "alias": "azzurri-pizzeria-calgary",
         "categories": [
          {
           "alias": "pizza",
           "title": "Pizza"
          },
          {
           "alias": "italian",
           "title": "Italian"
          },
          {
           "alias": "wine_bars",
           "title": "Wine Bars"
          }
         ],
         "coordinates": {
          "latitude": 51.0736120292853,
          "longitude": -114.055913938032
         },
         "display_phone": "+1 403-299-8774",
         "distance": 2879.9020150700158,
         "id": "abJQgxYC0cWMhRSIYEeekA",
         "image_url": "https://s3-media3.fl.yelpcdn.com/bphoto/t-UPMzy086KBZ3ZGkHon5A/o.jpg",
         "is_closed": false,
         "location": {
          "address1": "2404 B Edmonton Trail NE",
          "address2": "",
          "address3": "",
          "city": "Calgary",
          "country": "CA",
          "display_address": [
           "2404 B Edmonton Trail NE",
           "Calgary, AB T2E 3M8",
           "Canada"
          ],
          "state": "AB",
          "zip_code": "T2E 3M8"
         },
         "name": "Azzurri Pizzeria",
         "phone": "+14032998774",
         "price": "$$",
         "rating": 5,
         "review_count": 21,
         "transactions": [],
         "url": "https://www.yelp.com/biz/azzurri-pizzeria-calgary?adjust_creative=p3MulaJR4fK5L0ExFRIgWQ&utm_campaign=yelp_api_v3&utm_medium=api_v3_business_search&utm_source=p3MulaJR4fK5L0ExFRIgWQ"
        },
        {
         "alias": "the-bank-and-baron-pub-calgary",
         "categories": [
          {
           "alias": "pubs",
           "title": "Pubs"
          }
         ],
         "coordinates": {
          "latitude": 51.045492409032555,
          "longitude": -114.06458314271997
         },
         "display_phone": "+1 587-293-9688",
         "distance": 449.71359972081893,
         "id": "-9Ff8WEoiFsw_mfmJ4Nlcw",
         "image_url": "https://s3-media3.fl.yelpcdn.com/bphoto/1qPjZZUEFyvP-bJutDr8Sw/o.jpg",
         "is_closed": false,
         "location": {
          "address1": "125 8 Avenue SW",
          "address2": "",
          "address3": "",
          "city": "Calgary",
          "country": "CA",
          "display_address": [
           "125 8 Avenue SW",
           "Calgary, AB T2P 1B4",
           "Canada"
          ],
          "state": "AB",
          "zip_code": "T2P 1B4"
         },
         "name": "The Bank & Baron Pub",
         "phone": "+15872939688",
         "price": "$$",
         "rating": 3,
         "review_count": 92,
         "transactions": [],
         "url": "https://www.yelp.com/biz/the-bank-and-baron-pub-calgary?adjust_creative=p3MulaJR4fK5L0ExFRIgWQ&utm_campaign=yelp_api_v3&utm_medium=api_v3_business_search&utm_source=p3MulaJR4fK5L0ExFRIgWQ"
        },
        {
         "alias": "native-tongues-taqueria-calgary-2",
         "categories": [
          {
           "alias": "mexican",
           "title": "Mexican"
          },
          {
           "alias": "cocktailbars",
           "title": "Cocktail Bars"
          }
         ],
         "coordinates": {
          "latitude": 51.041401,
          "longitude": -114.0675588
         },
         "display_phone": "+1 403-263-9444",
         "distance": 916.3191704894939,
         "id": "YpoIDLyRGhgciExGAHRQcw",
         "image_url": "https://s3-media2.fl.yelpcdn.com/bphoto/-XG94750J-LVCfgdeiO9LA/o.jpg",
         "is_closed": false,
         "location": {
          "address1": "235 12 Avenue SW",
          "address2": "",
          "address3": "",
          "city": "Calgary",
          "country": "CA",
          "display_address": [
           "235 12 Avenue SW",
           "Calgary, AB T2R 1H7",
           "Canada"
          ],
          "state": "AB",
          "zip_code": "T2R 1H7"
         },
         "name": "Native Tongues Taqueria",
         "phone": "+14032639444",
         "price": "$$",
         "rating": 4,
         "review_count": 363,
         "transactions": [],
         "url": "https://www.yelp.com/biz/native-tongues-taqueria-calgary-2?adjust_creative=p3MulaJR4fK5L0ExFRIgWQ&utm_campaign=yelp_api_v3&utm_medium=api_v3_business_search&utm_source=p3MulaJR4fK5L0ExFRIgWQ"
        },
        {
         "alias": "4th-spot-kitchen-and-bar-calgary",
         "categories": [
          {
           "alias": "newcanadian",
           "title": "Canadian (New)"
          },
          {
           "alias": "bars",
           "title": "Bars"
          },
          {
           "alias": "burgers",
           "title": "Burgers"
          }
         ],
         "coordinates": {
          "latitude": 51.07584,
          "longitude": -114.07119
         },
         "display_phone": "+1 403-984-3474",
         "distance": 3227.1960403965372,
         "id": "aByEXqPlzfOqXn0B5mH6Hg",
         "image_url": "https://s3-media4.fl.yelpcdn.com/bphoto/80m1Ebyo8smTmsFfY_maYA/o.jpg",
         "is_closed": false,
         "location": {
          "address1": "2620 4th Street NW",
          "address2": "",
          "address3": "",
          "city": "Calgary",
          "country": "CA",
          "display_address": [
           "2620 4th Street NW",
           "Calgary, AB T2M 3A1",
           "Canada"
          ],
          "state": "AB",
          "zip_code": "T2M 3A1"
         },
         "name": "4th Spot Kitchen & Bar",
         "phone": "+14039843474",
         "price": "$$",
         "rating": 4,
         "review_count": 138,
         "transactions": [],
         "url": "https://www.yelp.com/biz/4th-spot-kitchen-and-bar-calgary?adjust_creative=p3MulaJR4fK5L0ExFRIgWQ&utm_campaign=yelp_api_v3&utm_medium=api_v3_business_search&utm_source=p3MulaJR4fK5L0ExFRIgWQ"
        },
        {
         "alias": "las-canarias-calgary-2",
         "categories": [
          {
           "alias": "spanish",
           "title": "Spanish"
          },
          {
           "alias": "tapasmallplates",
           "title": "Tapas/Small Plates"
          }
         ],
         "coordinates": {
          "latitude": 51.03759,
          "longitude": -114.0889
         },
         "display_phone": "+1 403-475-4165",
         "distance": 2359.500765634484,
         "id": "-1u4Q4U6OZ-CvqoxUh7gKg",
         "image_url": "https://s3-media4.fl.yelpcdn.com/bphoto/VopLGJhdbq7IXKb3TWM9dg/o.jpg",
         "is_closed": false,
         "location": {
          "address1": "1129 17 Avenue SW",
          "address2": "",
          "address3": null,
          "city": "Calgary",
          "country": "CA",
          "display_address": [
           "1129 17 Avenue SW",
           "Calgary, AB T2T 0B6",
           "Canada"
          ],
          "state": "AB",
          "zip_code": "T2T 0B6"
         },
         "name": "Las Canarias",
         "phone": "+14034754165",
         "price": "$$",
         "rating": 4,
         "review_count": 27,
         "transactions": [],
         "url": "https://www.yelp.com/biz/las-canarias-calgary-2?adjust_creative=p3MulaJR4fK5L0ExFRIgWQ&utm_campaign=yelp_api_v3&utm_medium=api_v3_business_search&utm_source=p3MulaJR4fK5L0ExFRIgWQ"
        },
        {
         "alias": "the-eden-calgary-2",
         "categories": [
          {
           "alias": "french",
           "title": "French"
          },
          {
           "alias": "bistros",
           "title": "Bistros"
          }
         ],
         "coordinates": {
          "latitude": 51.0415009,
          "longitude": -114.0353081
         },
         "display_phone": "+1 403-266-1005",
         "distance": 1796.8734001248736,
         "id": "Oay1s30mw7g02s1dJUs9zw",
         "image_url": "https://s3-media1.fl.yelpcdn.com/bphoto/zUblgzFhTNgeP2XcVDYFbA/o.jpg",
         "is_closed": false,
         "location": {
          "address1": "1219 9 Avenue SE",
          "address2": "",
          "address3": null,
          "city": "Calgary",
          "country": "CA",
          "display_address": [
           "1219 9 Avenue SE",
           "Calgary, AB T2G 0S9",
           "Canada"
          ],
          "state": "AB",
          "zip_code": "T2G 0S9"
         },
         "name": "The Eden",
         "phone": "+14032661005",
         "price": "$$",
         "rating": 5,
         "review_count": 23,
         "transactions": [],
         "url": "https://www.yelp.com/biz/the-eden-calgary-2?adjust_creative=p3MulaJR4fK5L0ExFRIgWQ&utm_campaign=yelp_api_v3&utm_medium=api_v3_business_search&utm_source=p3MulaJR4fK5L0ExFRIgWQ"
        },
        {
         "alias": "chilitos-taberna-calgary-2",
         "categories": [
          {
           "alias": "mexican",
           "title": "Mexican"
          },
          {
           "alias": "bars",
           "title": "Bars"
          }
         ],
         "coordinates": {
          "latitude": 51.03757,
          "longitude": -114.0922
         },
         "display_phone": "+1 403-228-5528",
         "distance": 2565.779488421397,
         "id": "lZ8T7NFAo1JGAAopTV_OTQ",
         "image_url": "https://s3-media4.fl.yelpcdn.com/bphoto/myCJfJ986_jAxwaV610NHA/o.jpg",
         "is_closed": false,
         "location": {
          "address1": "1309 17 Ave SW",
          "address2": "",
          "address3": "",
          "city": "Calgary",
          "country": "CA",
          "display_address": [
           "1309 17 Ave SW",
           "Calgary, AB T2T 0C4",
           "Canada"
          ],
          "state": "AB",
          "zip_code": "T2T 0C4"
         },
         "name": "Chilitos Taberna",
         "phone": "+14032285528",
         "price": "$$",
         "rating": 3.5,
         "review_count": 106,
         "transactions": [],
         "url": "https://www.yelp.com/biz/chilitos-taberna-calgary-2?adjust_creative=p3MulaJR4fK5L0ExFRIgWQ&utm_campaign=yelp_api_v3&utm_medium=api_v3_business_search&utm_source=p3MulaJR4fK5L0ExFRIgWQ"
        },
        {
         "alias": "the-unicorn-calgary-2",
         "categories": [
          {
           "alias": "sportsbars",
           "title": "Sports Bars"
          }
         ],
         "coordinates": {
          "latitude": 51.0455215,
          "longitude": -114.0671889
         },
         "display_phone": "+1 403-265-3665",
         "distance": 584.1343189471917,
         "id": "WJKPqmc5_UsAfcp5CTtVyA",
         "image_url": "https://s3-media2.fl.yelpcdn.com/bphoto/RIs-p_hRP2LRCAezhEFzxw/o.jpg",
         "is_closed": false,
         "location": {
          "address1": "223 - 8th Avenue SW",
          "address2": "",
          "address3": "",
          "city": "Calgary",
          "country": "CA",
          "display_address": [
           "223 - 8th Avenue SW",
           "Calgary, AB T2P 1B7",
           "Canada"
          ],
          "state": "AB",
          "zip_code": "T2P 1B7"
         },
         "name": "The Unicorn",
         "phone": "+14032653665",
         "price": "$$",
         "rating": 3,
         "review_count": 40,
         "transactions": [],
         "url": "https://www.yelp.com/biz/the-unicorn-calgary-2?adjust_creative=p3MulaJR4fK5L0ExFRIgWQ&utm_campaign=yelp_api_v3&utm_medium=api_v3_business_search&utm_source=p3MulaJR4fK5L0ExFRIgWQ"
        },
        {
         "alias": "jia-jia-asian-street-food-and-bar-calgary-2",
         "categories": [
          {
           "alias": "asianfusion",
           "title": "Asian Fusion"
          },
          {
           "alias": "bars",
           "title": "Bars"
          },
          {
           "alias": "chinese",
           "title": "Chinese"
          }
         ],
         "coordinates": {
          "latitude": 51.0376951,
          "longitude": -114.086215
         },
         "display_phone": "+1 403-475-8558",
         "distance": 2202.0119869944792,
         "id": "lC27LrDhoTXr9FqeUMjr8g",
         "image_url": "https://s3-media1.fl.yelpcdn.com/bphoto/-VaTpGCTxV5GASSlr_jztA/o.jpg",
         "is_closed": false,
         "location": {
          "address1": "1033 17 Avenue SW",
          "address2": "",
          "address3": null,
          "city": "Calgary",
          "country": "CA",
          "display_address": [
           "1033 17 Avenue SW",
           "Calgary, AB T2T 0A9",
           "Canada"
          ],
          "state": "AB",
          "zip_code": "T2T 0A9"
         },
         "name": "Jia Jia Asian Street Food & Bar",
         "phone": "+14034758558",
         "rating": 5,
         "review_count": 5,
         "transactions": [],
         "url": "https://www.yelp.com/biz/jia-jia-asian-street-food-and-bar-calgary-2?adjust_creative=p3MulaJR4fK5L0ExFRIgWQ&utm_campaign=yelp_api_v3&utm_medium=api_v3_business_search&utm_source=p3MulaJR4fK5L0ExFRIgWQ"
        },
        {
         "alias": "first-street-market-yyc-calgary",
         "categories": [
          {
           "alias": "pizza",
           "title": "Pizza"
          },
          {
           "alias": "bars",
           "title": "Bars"
          },
          {
           "alias": "breakfast_brunch",
           "title": "Breakfast & Brunch"
          }
         ],
         "coordinates": {
          "latitude": 51.03977,
          "longitude": -114.0662511
         },
         "display_phone": "",
         "distance": 1016.570886402981,
         "id": "2wPrgDGpId4j116mCPjNHg",
         "image_url": "https://s3-media3.fl.yelpcdn.com/bphoto/CwKsHe0K4AI1Cu7dCrhacw/o.jpg",
         "is_closed": false,
         "location": {
          "address1": "1327 1St Street SW",
          "address2": "",
          "address3": null,
          "city": "Calgary",
          "country": "CA",
          "display_address": [
           "1327 1St Street SW",
           "Calgary, AB T2R 0W3",
           "Canada"
          ],
          "state": "AB",
          "zip_code": "T2R 0W3"
         },
         "name": "First Street Market YYC",
         "phone": "",
         "rating": 5,
         "review_count": 4,
         "transactions": [],
         "url": "https://www.yelp.com/biz/first-street-market-yyc-calgary?adjust_creative=p3MulaJR4fK5L0ExFRIgWQ&utm_campaign=yelp_api_v3&utm_medium=api_v3_business_search&utm_source=p3MulaJR4fK5L0ExFRIgWQ"
        },
        {
         "alias": "lately-restaurant-and-bar-calgary",
         "categories": [
          {
           "alias": "bars",
           "title": "Bars"
          },
          {
           "alias": "newcanadian",
           "title": "Canadian (New)"
          }
         ],
         "coordinates": {
          "latitude": 51.038067335602,
          "longitude": -114.095418796411
         },
         "display_phone": "+1 403-457-0939",
         "distance": 2747.2881211317954,
         "id": "9E9yxtTZrpdCjtmLi8cejw",
         "image_url": "https://s3-media1.fl.yelpcdn.com/bphoto/pCLmIjWAUQVMs0X78Dne7g/o.jpg",
         "is_closed": false,
         "location": {
          "address1": "1438 17th Avenue SW",
          "address2": "",
          "address3": null,
          "city": "Calgary",
          "country": "CA",
          "display_address": [
           "1438 17th Avenue SW",
           "Calgary, AB T2T 0C8",
           "Canada"
          ],
          "state": "AB",
          "zip_code": "T2T 0C8"
         },
         "name": "Lately Restaurant & Bar",
         "phone": "+14034570939",
         "rating": 4,
         "review_count": 1,
         "transactions": [],
         "url": "https://www.yelp.com/biz/lately-restaurant-and-bar-calgary?adjust_creative=p3MulaJR4fK5L0ExFRIgWQ&utm_campaign=yelp_api_v3&utm_medium=api_v3_business_search&utm_source=p3MulaJR4fK5L0ExFRIgWQ"
        },
        {
         "alias": "cinnamon-indian-cuisine-and-bar-calgary",
         "categories": [
          {
           "alias": "indpak",
           "title": "Indian"
          },
          {
           "alias": "bars",
           "title": "Bars"
          }
         ],
         "coordinates": {
          "latitude": 51.043,
          "longitude": -114.08932
         },
         "display_phone": "+1 403-290-1777",
         "distance": 2167.808758474342,
         "id": "S24pnY7x_8ElVp2tH0BZbQ",
         "image_url": "https://s3-media4.fl.yelpcdn.com/bphoto/TmmVXpVr5IEczjSlVovm6w/o.jpg",
         "is_closed": false,
         "location": {
          "address1": "1207 11th Avenue SW",
          "address2": "Suite 101",
          "address3": "",
          "city": "Calgary",
          "country": "CA",
          "display_address": [
           "1207 11th Avenue SW",
           "Suite 101",
           "Calgary, AB T3C 0M5",
           "Canada"
          ],
          "state": "AB",
          "zip_code": "T3C 0M5"
         },
         "name": "Cinnamon Indian Cuisine & Bar",
         "phone": "+14032901777",
         "rating": 4.5,
         "review_count": 11,
         "transactions": [],
         "url": "https://www.yelp.com/biz/cinnamon-indian-cuisine-and-bar-calgary?adjust_creative=p3MulaJR4fK5L0ExFRIgWQ&utm_campaign=yelp_api_v3&utm_medium=api_v3_business_search&utm_source=p3MulaJR4fK5L0ExFRIgWQ"
        },
        {
         "alias": "the-guild-calgary",
         "categories": [
          {
           "alias": "gastropubs",
           "title": "Gastropubs"
          },
          {
           "alias": "steak",
           "title": "Steakhouses"
          }
         ],
         "coordinates": {
          "latitude": 51.04575,
          "longitude": -114.06609
         },
         "display_phone": "+1 403-770-2313",
         "distance": 516.4875645736412,
         "id": "zUct0miShgOPuNad8BEJjw",
         "image_url": "https://s3-media4.fl.yelpcdn.com/bphoto/6LGBeBI0MSaYWjE6fNhxjg/o.jpg",
         "is_closed": false,
         "location": {
          "address1": "200 8 Avenue SW",
          "address2": "",
          "address3": null,
          "city": "Calgary",
          "country": "CA",
          "display_address": [
           "200 8 Avenue SW",
           "Calgary, AB T2P 1B5",
           "Canada"
          ],
          "state": "AB",
          "zip_code": "T2P 1B5"
         },
         "name": "The Guild",
         "phone": "+14037702313",
         "price": "$$$",
         "rating": 3,
         "review_count": 89,
         "transactions": [],
         "url": "https://www.yelp.com/biz/the-guild-calgary?adjust_creative=p3MulaJR4fK5L0ExFRIgWQ&utm_campaign=yelp_api_v3&utm_medium=api_v3_business_search&utm_source=p3MulaJR4fK5L0ExFRIgWQ"
        },
        {
         "alias": "ricardos-hideaway-calgary-3",
         "categories": [
          {
           "alias": "caribbean",
           "title": "Caribbean"
          },
          {
           "alias": "lounges",
           "title": "Lounges"
          }
         ],
         "coordinates": {
          "latitude": 51.03828,
          "longitude": -114.0740539
         },
         "display_phone": "+1 587-349-2585",
         "distance": 1478.0144745511004,
         "id": "uw5I_92_lLyb7Yha35d3XA",
         "image_url": "https://s3-media2.fl.yelpcdn.com/bphoto/E8zhKywM_WFLLd2rK1C7BQ/o.jpg",
         "is_closed": false,
         "location": {
          "address1": "1530 5 St SW",
          "address2": "",
          "address3": null,
          "city": "Calgary",
          "country": "CA",
          "display_address": [
           "1530 5 St SW",
           "Calgary, AB T2R 0Z1",
           "Canada"
          ],
          "state": "AB",
          "zip_code": "T2R 0Z1"
         },
         "name": "Ricardo's Hideaway",
         "phone": "+15873492585",
         "price": "$$$",
         "rating": 4,
         "review_count": 22,
         "transactions": [],
         "url": "https://www.yelp.com/biz/ricardos-hideaway-calgary-3?adjust_creative=p3MulaJR4fK5L0ExFRIgWQ&utm_campaign=yelp_api_v3&utm_medium=api_v3_business_search&utm_source=p3MulaJR4fK5L0ExFRIgWQ"
        },
        {
         "alias": "minas-brazilian-steakhouse-calgary",
         "categories": [
          {
           "alias": "steak",
           "title": "Steakhouses"
          },
          {
           "alias": "brazilian",
           "title": "Brazilian"
          }
         ],
         "coordinates": {
          "latitude": 51.0527455174167,
          "longitude": -114.067277748362
         },
         "display_phone": "+1 403-454-2550",
         "distance": 783.1899986945883,
         "id": "_3okFFTRYFAWppgIWHO55g",
         "image_url": "https://s3-media1.fl.yelpcdn.com/bphoto/JI6SzW-vgk9NMU_cWVDHtg/o.jpg",
         "is_closed": false,
         "location": {
          "address1": "136 2 Street SW",
          "address2": null,
          "address3": "",
          "city": "Calgary",
          "country": "CA",
          "display_address": [
           "136 2 Street SW",
           "Calgary, AB T2P 0S7",
           "Canada"
          ],
          "state": "AB",
          "zip_code": "T2P 0S7"
         },
         "name": "Minas Brazilian Steakhouse",
         "phone": "+14034542550",
         "price": "$$$",
         "rating": 4,
         "review_count": 108,
         "transactions": [],
         "url": "https://www.yelp.com/biz/minas-brazilian-steakhouse-calgary?adjust_creative=p3MulaJR4fK5L0ExFRIgWQ&utm_campaign=yelp_api_v3&utm_medium=api_v3_business_search&utm_source=p3MulaJR4fK5L0ExFRIgWQ"
        }
       ],
       "region": {
        "center": {
         "latitude": 51.0478,
         "longitude": -114.0593
        }
       },
       "total": 240
      },
      "text/plain": [
       "<IPython.core.display.JSON object>"
      ]
     },
     "execution_count": 14,
     "metadata": {
      "application/json": {
       "expanded": false,
       "root": "root"
      }
     },
     "output_type": "execute_result"
    }
   ],
   "source": [
    "# We can export the information that was returned using method .json()\n",
    "data_dict =res.json()\n",
    "#data_dict\n",
    "JSON(data_dict)"
   ]
  },
  {
   "cell_type": "code",
   "execution_count": 15,
   "id": "54beca7d-b5bc-444f-aae1-b04b61193089",
   "metadata": {},
   "outputs": [],
   "source": [
    "import sqlite3\n",
    "from sqlite3 import Error\n"
   ]
  },
  {
   "cell_type": "code",
   "execution_count": 16,
   "id": "bd7d6850-636e-4b6e-89ca-c7f14ff3a61d",
   "metadata": {},
   "outputs": [],
   "source": [
    "def create_connection(path):\n",
    "    connection = None\n",
    "    try:\n",
    "        connection = sqlite3.connect(path)\n",
    "        print(\"Connection to SQLite DB successful\")\n",
    "    except Error as e:\n",
    "        print(f\"The error '{e}' occurred\")\n",
    "    return connection    "
   ]
  },
  {
   "cell_type": "code",
   "execution_count": 17,
   "id": "437093a0-138f-4ea0-967f-ab871e597fe8",
   "metadata": {},
   "outputs": [
    {
     "name": "stdout",
     "output_type": "stream",
     "text": [
      "Connection to SQLite DB successful\n"
     ]
    }
   ],
   "source": [
    "connection = create_connection(\"downtown_calgary_POI.sqlite\")"
   ]
  },
  {
   "cell_type": "code",
   "execution_count": 18,
   "id": "42bc7848-372b-43a1-9290-470424638bfb",
   "metadata": {},
   "outputs": [],
   "source": [
    "def execute_query(connection, query):\n",
    "    cursor = connection.cursor()\n",
    "    try:\n",
    "        cursor.execute(query)\n",
    "        connection.commit()\n",
    "        print(\"Query executed successfully\")\n",
    "    except Error as e:\n",
    "        print(f\"The error '{e}' occurred\")"
   ]
  },
  {
   "cell_type": "code",
   "execution_count": 26,
   "id": "fe7646ed-548d-4505-bb97-94c7e716171f",
   "metadata": {},
   "outputs": [],
   "source": [
    "#open JSON data\n",
    "df = pd.json_normalize(data_dict, \"businesses\") \n",
    "#remove come columns\n",
    "df1= df.drop(columns=[\"categories\",\"id\",\"location.address2\",\"location.address3\",\"transactions\", \"location.display_address\"])\n",
    "#df1"
   ]
  },
  {
   "cell_type": "code",
   "execution_count": 28,
   "id": "278dde95-835e-44c7-a0b0-908f6b427998",
   "metadata": {},
   "outputs": [],
   "source": [
    "#create table in sql\n",
    "df_sql = df1.to_sql('yelp_businesses', connection, if_exists='fail', index=True)"
   ]
  },
  {
   "cell_type": "code",
   "execution_count": 311,
   "id": "fcf0c5d3-eb50-47c6-95c0-d083afbe815e",
   "metadata": {},
   "outputs": [],
   "source": [
    "#Selecting records\n",
    "def execute_read_query(connection, query):\n",
    "    cursor= connection.cursor()\n",
    "    result = None\n",
    "    try:\n",
    "        cursor.execute(query)\n",
    "        result=cursor.fetchall()\n",
    "        return result\n",
    "    except Error as e:\n",
    "        print(f\"The error '{e}' occurred\")"
   ]
  },
  {
   "cell_type": "code",
   "execution_count": 313,
   "id": "01a8b1ae-c82b-49d3-a315-97ed47c74a89",
   "metadata": {},
   "outputs": [],
   "source": [
    "yelp = \"SELECT * from yelp_businesses\"\n",
    "yelp_bus = execute_read_query(connection, yelp)\n",
    "\n",
    "#for bus in yelp_bus:\n",
    " #   print(bus)\n",
    "    "
   ]
  },
  {
   "cell_type": "code",
   "execution_count": 29,
   "id": "d797f8d2-4f9d-4714-8efa-39f72959d419",
   "metadata": {},
   "outputs": [
    {
     "data": {
      "text/html": [
       "<div>\n",
       "<style scoped>\n",
       "    .dataframe tbody tr th:only-of-type {\n",
       "        vertical-align: middle;\n",
       "    }\n",
       "\n",
       "    .dataframe tbody tr th {\n",
       "        vertical-align: top;\n",
       "    }\n",
       "\n",
       "    .dataframe thead th {\n",
       "        text-align: right;\n",
       "    }\n",
       "</style>\n",
       "<table border=\"1\" class=\"dataframe\">\n",
       "  <thead>\n",
       "    <tr style=\"text-align: right;\">\n",
       "      <th></th>\n",
       "      <th>alias</th>\n",
       "      <th>name</th>\n",
       "      <th>image_url</th>\n",
       "      <th>is_closed</th>\n",
       "      <th>url</th>\n",
       "      <th>review_count</th>\n",
       "      <th>rating</th>\n",
       "      <th>phone</th>\n",
       "      <th>display_phone</th>\n",
       "      <th>distance</th>\n",
       "      <th>coordinates.latitude</th>\n",
       "      <th>coordinates.longitude</th>\n",
       "      <th>location.address1</th>\n",
       "      <th>location.city</th>\n",
       "      <th>location.zip_code</th>\n",
       "      <th>location.country</th>\n",
       "      <th>location.state</th>\n",
       "      <th>price</th>\n",
       "    </tr>\n",
       "  </thead>\n",
       "  <tbody>\n",
       "    <tr>\n",
       "      <th>0</th>\n",
       "      <td>paper-lantern-calgary-2</td>\n",
       "      <td>Paper Lantern</td>\n",
       "      <td>https://s3-media3.fl.yelpcdn.com/bphoto/sGNVqJ...</td>\n",
       "      <td>False</td>\n",
       "      <td>https://www.yelp.com/biz/paper-lantern-calgary...</td>\n",
       "      <td>5</td>\n",
       "      <td>5.0</td>\n",
       "      <td>+14034577765</td>\n",
       "      <td>+1 403-457-7765</td>\n",
       "      <td>386.982967</td>\n",
       "      <td>51.050879</td>\n",
       "      <td>-114.061746</td>\n",
       "      <td>115 - 2 Avenue SE</td>\n",
       "      <td>Calgary</td>\n",
       "      <td>T2G 0B2</td>\n",
       "      <td>CA</td>\n",
       "      <td>AB</td>\n",
       "      <td>NaN</td>\n",
       "    </tr>\n",
       "  </tbody>\n",
       "</table>\n",
       "</div>"
      ],
      "text/plain": [
       "                     alias           name  \\\n",
       "0  paper-lantern-calgary-2  Paper Lantern   \n",
       "\n",
       "                                           image_url  is_closed  \\\n",
       "0  https://s3-media3.fl.yelpcdn.com/bphoto/sGNVqJ...      False   \n",
       "\n",
       "                                                 url  review_count  rating  \\\n",
       "0  https://www.yelp.com/biz/paper-lantern-calgary...             5     5.0   \n",
       "\n",
       "          phone    display_phone    distance  coordinates.latitude  \\\n",
       "0  +14034577765  +1 403-457-7765  386.982967             51.050879   \n",
       "\n",
       "   coordinates.longitude  location.address1 location.city location.zip_code  \\\n",
       "0            -114.061746  115 - 2 Avenue SE       Calgary           T2G 0B2   \n",
       "\n",
       "  location.country location.state price  \n",
       "0               CA             AB   NaN  "
      ]
     },
     "execution_count": 29,
     "metadata": {},
     "output_type": "execute_result"
    }
   ],
   "source": [
    "top_10_POI = df1.sort_values(by=[\"rating\"], ascending= False)\n",
    "top_10_POI.head(1)"
   ]
  },
  {
   "cell_type": "code",
   "execution_count": null,
   "id": "f054b9c3-7df3-43d2-9e7d-f76bdb4b01fd",
   "metadata": {},
   "outputs": [],
   "source": []
  }
 ],
 "metadata": {
  "kernelspec": {
   "display_name": "Python 3 (ipykernel)",
   "language": "python",
   "name": "python3"
  },
  "language_info": {
   "codemirror_mode": {
    "name": "ipython",
    "version": 3
   },
   "file_extension": ".py",
   "mimetype": "text/x-python",
   "name": "python",
   "nbconvert_exporter": "python",
   "pygments_lexer": "ipython3",
   "version": "3.8.11"
  }
 },
 "nbformat": 4,
 "nbformat_minor": 5
}

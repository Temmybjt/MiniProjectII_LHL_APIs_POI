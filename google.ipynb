{
 "cells": [
  {
   "cell_type": "code",
   "execution_count": 1,
   "id": "319e6fb2-26ba-4684-b3ee-2558e8f5b1cc",
   "metadata": {},
   "outputs": [],
   "source": [
    "import requests as re\n",
    "import os\n",
    "\n",
    "from IPython.display import JSON  \n",
    "import pandas as pd"
   ]
  },
  {
   "cell_type": "code",
   "execution_count": 2,
   "id": "444d2b81-81cf-4339-9312-74da092a605d",
   "metadata": {},
   "outputs": [],
   "source": [
    "api_key = os.environ[\"GOGGLE_API_KEY\"]"
   ]
  },
  {
   "cell_type": "code",
   "execution_count": 3,
   "id": "082e8e4e-b369-43b6-a66b-e424acfe8164",
   "metadata": {},
   "outputs": [],
   "source": [
    "url= \"https://maps.googleapis.com/maps/api/place/nearbysearch/json?location=51.0478,-114.0593&radius=5000&keyword=food&types=restaurants&key={}\".format(api_key)\n"
   ]
  },
  {
   "cell_type": "code",
   "execution_count": 4,
   "id": "0e6af266-6486-4233-8b85-3118c37cff4d",
   "metadata": {},
   "outputs": [],
   "source": [
    "res = re.request(\"GET\", url)"
   ]
  },
  {
   "cell_type": "code",
   "execution_count": 5,
   "id": "bdc0086e-1e56-47bf-ab0f-9b08c35f4270",
   "metadata": {},
   "outputs": [
    {
     "data": {
      "application/json": {
       "html_attributions": [],
       "next_page_token": "Aap_uEBLEIooLwFxV9IMX9UmF59gnxtrVuit8Sf7024O1_PM-L6GsVrCHljxrZ65Q5fCCqt8sqwZcyoT0O85mO-yvcKeKAn2V5a-Pe-HtXMF6jqh7LMK7C5OMtrFU0cj54tT2zxc2aXhDbush9mossq7w7TKH66EYN7b9WxlOgufKeFaPNfDR5HUIxKxCr46jNWWT93BqKNiLSYYUc4T9nKZjjHFHUh_-8f6W62DR-P0aRq9tD4v4WBB2h9BZoBnui8iQCvpsCJxdN7jYkXQeh0_wuoVX92wP9fyoWamyRVRQse0p8FiqFAe5LdcbUwdJ7bgVQOGaSVvOh6uSMZ2-zDNgIrT_7VdTQP3ARbYK7iObL0dvOYVA0ulg0yiXmqX33D7Asd_rIFgi_8WAN91__BUI3klU1Fg4RXCiNy0i-PgMC1ZWaI8BKQ9V2TxvS60huMG8_qHuw",
       "results": [
        {
         "business_status": "OPERATIONAL",
         "geometry": {
          "location": {
           "lat": 51.0547212,
           "lng": -114.094418
          },
          "viewport": {
           "northeast": {
            "lat": 51.05607107989272,
            "lng": -114.0932235201073
           },
           "southwest": {
            "lat": 51.05337142010728,
            "lng": -114.0959231798927
           }
          }
         },
         "icon": "https://maps.gstatic.com/mapfiles/place_api/icons/v1/png_71/shopping-71.png",
         "icon_background_color": "#4B96F3",
         "icon_mask_base_uri": "https://maps.gstatic.com/mapfiles/place_api/icons/v2/shopping_pinlet",
         "name": "WholeLifeGo",
         "opening_hours": {
          "open_now": true
         },
         "photos": [
          {
           "height": 3608,
           "html_attributions": [
            "<a href=\"https://maps.google.com/maps/contrib/109174458752982888703\">A Google User</a>"
           ],
           "photo_reference": "Aap_uECSDr4G0O_bsnpq4ZS2vjilg59EN74itGo_hC6TrqSJKLFVjNY0AYGtqhmix8yGMHsRZwT66rJIw-2xuypbkRcAtQ8nd6Iu-n2A1NnMJedq8NF3LvOuhxNUygSe-V5XJ3yMEp8Tsu8VkBt8QNPlKmjf4nXzMIX3HgxgXkHx3H9SEXny",
           "width": 3024
          }
         ],
         "place_id": "ChIJoR7E185vcVMR0ASJnp7GnEM",
         "plus_code": {
          "compound_code": "3W34+V6 Calgary, Alberta",
          "global_code": "95373W34+V6"
         },
         "rating": 5,
         "reference": "ChIJoR7E185vcVMR0ASJnp7GnEM",
         "scope": "GOOGLE",
         "types": [
          "grocery_or_supermarket",
          "restaurant",
          "food",
          "point_of_interest",
          "store",
          "establishment"
         ],
         "user_ratings_total": 152,
         "vicinity": "340 14 St NW, Calgary"
        },
        {
         "business_status": "CLOSED_TEMPORARILY",
         "geometry": {
          "location": {
           "lat": 51.0821287,
           "lng": -114.0123386
          },
          "viewport": {
           "northeast": {
            "lat": 51.08347637989272,
            "lng": -114.0106973701073
           },
           "southwest": {
            "lat": 51.08077672010727,
            "lng": -114.0133970298927
           }
          }
         },
         "icon": "https://maps.gstatic.com/mapfiles/place_api/icons/v1/png_71/restaurant-71.png",
         "icon_background_color": "#FF9E67",
         "icon_mask_base_uri": "https://maps.gstatic.com/mapfiles/place_api/icons/v2/restaurant_pinlet",
         "name": "Vivaan's Yummies. Indian Street Food",
         "permanently_closed": true,
         "photos": [
          {
           "height": 3024,
           "html_attributions": [
            "<a href=\"https://maps.google.com/maps/contrib/116266895008968593022\">A Google User</a>"
           ],
           "photo_reference": "Aap_uEBtBRom_X6JomVZYQxg6Nn6rMgwJKfjFa2ubTfckz4hGQX-D96kqRriWL_oz9QfqHbPs1h_Z8bhic1QUaCAtA0Lu7KddqC2Xgy6Uy8xGl_hA7lmSxGRPxvMBB2Ll3HH77kqdVxbv3DUziZah89EJNlejCtkwOCECrXg7lf4LHlULb4g",
           "width": 4032
          }
         ],
         "place_id": "ChIJA93_a1VlcVMRBspnogjSK90",
         "plus_code": {
          "compound_code": "3XJQ+V3 Calgary, Alberta",
          "global_code": "95373XJQ+V3"
         },
         "rating": 4.9,
         "reference": "ChIJA93_a1VlcVMRBspnogjSK90",
         "scope": "GOOGLE",
         "types": [
          "restaurant",
          "meal_takeaway",
          "food",
          "point_of_interest",
          "establishment"
         ],
         "user_ratings_total": 156,
         "vicinity": "3309 19 St NE, Calgary"
        },
        {
         "business_status": "OPERATIONAL",
         "geometry": {
          "location": {
           "lat": 51.0346453,
           "lng": -114.0717877
          },
          "viewport": {
           "northeast": {
            "lat": 51.03590712989272,
            "lng": -114.0703046701073
           },
           "southwest": {
            "lat": 51.03320747010728,
            "lng": -114.0730043298927
           }
          }
         },
         "icon": "https://maps.gstatic.com/mapfiles/place_api/icons/v1/png_71/restaurant-71.png",
         "icon_background_color": "#FF9E67",
         "icon_mask_base_uri": "https://maps.gstatic.com/mapfiles/place_api/icons/v2/restaurant_pinlet",
         "name": "FOO Asian Street Food",
         "opening_hours": {
          "open_now": true
         },
         "photos": [
          {
           "height": 2160,
           "html_attributions": [
            "<a href=\"https://maps.google.com/maps/contrib/114244964844139183951\">Erik T</a>"
           ],
           "photo_reference": "Aap_uEAzkxc0agMW_-vCAAigwV2ioNUdhLaZBXUkIvV9xynjMRBgSGzjnt4Ew--RLZKuMJCBNdJY9b8AsoRCcwgUaaeMD37cJvSL0V3wKTRl9iS8WsQ0-pX9DvIHmlFh4NOGgiwzeT5qMFsNZHzxtR2yGwxNJg-QFhgfgNHhjuJfww-xN9RB",
           "width": 3840
          }
         ],
         "place_id": "ChIJuZG0chlwcVMR6GKVa_XF_sc",
         "plus_code": {
          "compound_code": "2WMH+V7 Calgary, Alberta",
          "global_code": "95372WMH+V7"
         },
         "price_level": 2,
         "rating": 4.5,
         "reference": "ChIJuZG0chlwcVMR6GKVa_XF_sc",
         "scope": "GOOGLE",
         "types": [
          "restaurant",
          "food",
          "point_of_interest",
          "establishment"
         ],
         "user_ratings_total": 266,
         "vicinity": "2015 4 St SW Unit 5, Calgary"
        },
        {
         "business_status": "OPERATIONAL",
         "geometry": {
          "location": {
           "lat": 51.0418001,
           "lng": -114.0335844
          },
          "viewport": {
           "northeast": {
            "lat": 51.04312647989272,
            "lng": -114.0322916701073
           },
           "southwest": {
            "lat": 51.04042682010728,
            "lng": -114.0349913298927
           }
          }
         },
         "icon": "https://maps.gstatic.com/mapfiles/place_api/icons/v1/png_71/restaurant-71.png",
         "icon_background_color": "#FF9E67",
         "icon_mask_base_uri": "https://maps.gstatic.com/mapfiles/place_api/icons/v2/restaurant_pinlet",
         "name": "Inglewood Drive In",
         "opening_hours": {
          "open_now": true
         },
         "photos": [
          {
           "height": 2208,
           "html_attributions": [
            "<a href=\"https://maps.google.com/maps/contrib/115552409519390805173\">Svan Sinclair</a>"
           ],
           "photo_reference": "Aap_uEACqa8JjXuuDa4xUX6imPZtCK5UAJYcXRnueydY5PisfsJtNUJJJ08ETB6AEl8sjZA91IjlK_kp8J2YaQJ4ZoXQtx0kCsXGtq7Dn0dDGuuG3XY2CKIVsVwjJVuurL4iSdWm4ivJxekDi6WkvM3mzmxhWYXt5zDcFPt4LnYe7sv29dx_",
           "width": 3928
          }
         ],
         "place_id": "ChIJuRXVy696cVMRXJfcaV2xJds",
         "plus_code": {
          "compound_code": "2XR8+PH Calgary, Alberta",
          "global_code": "95372XR8+PH"
         },
         "rating": 4.6,
         "reference": "ChIJuRXVy696cVMRXJfcaV2xJds",
         "scope": "GOOGLE",
         "types": [
          "restaurant",
          "food",
          "point_of_interest",
          "establishment"
         ],
         "user_ratings_total": 1247,
         "vicinity": "802 12 Street SE, Calgary"
        },
        {
         "business_status": "OPERATIONAL",
         "geometry": {
          "location": {
           "lat": 51.0412992,
           "lng": -114.0340634
          },
          "viewport": {
           "northeast": {
            "lat": 51.04251627989272,
            "lng": -114.0323970201073
           },
           "southwest": {
            "lat": 51.03981662010727,
            "lng": -114.0350966798927
           }
          }
         },
         "icon": "https://maps.gstatic.com/mapfiles/place_api/icons/v1/png_71/shopping-71.png",
         "icon_background_color": "#4B96F3",
         "icon_mask_base_uri": "https://maps.gstatic.com/mapfiles/place_api/icons/v2/shopping_pinlet",
         "name": "Spolumbo's Fine Foods & Deli",
         "opening_hours": {
          "open_now": true
         },
         "photos": [
          {
           "height": 1200,
           "html_attributions": [
            "<a href=\"https://maps.google.com/maps/contrib/103664552662796519669\">Spolumbo&#39;s Fine Foods &amp; Deli</a>"
           ],
           "photo_reference": "Aap_uEAl7SjgUh4HZKUoVOwyOeH5OtHxaB_zBhSeAtXwNIGG1laNV7sfaQo3V_0G3pMypYnyXflIpQ-4ou_CLIOEH7lWp1feCmHCPuo0kQkbGrfJrwP5tJR7W7DisiaeI98dgxHaLmTVxTfU9ABeiqqKGxMM08xE8GKiMttya0hOVtclmhuh",
           "width": 900
          }
         ],
         "place_id": "ChIJyQpvj4V5cVMRLPJrzNMYNEw",
         "plus_code": {
          "compound_code": "2XR8+G9 Calgary, Alberta",
          "global_code": "95372XR8+G9"
         },
         "price_level": 2,
         "rating": 4.6,
         "reference": "ChIJyQpvj4V5cVMRLPJrzNMYNEw",
         "scope": "GOOGLE",
         "types": [
          "restaurant",
          "food",
          "point_of_interest",
          "store",
          "establishment"
         ],
         "user_ratings_total": 1004,
         "vicinity": "1308 9 Ave SE, Calgary"
        },
        {
         "business_status": "OPERATIONAL",
         "geometry": {
          "location": {
           "lat": 51.0809505,
           "lng": -113.9952323
          },
          "viewport": {
           "northeast": {
            "lat": 51.08231177989272,
            "lng": -113.9939763201073
           },
           "southwest": {
            "lat": 51.07961212010728,
            "lng": -113.9966759798927
           }
          }
         },
         "icon": "https://maps.gstatic.com/mapfiles/place_api/icons/v1/png_71/restaurant-71.png",
         "icon_background_color": "#FF9E67",
         "icon_mask_base_uri": "https://maps.gstatic.com/mapfiles/place_api/icons/v2/restaurant_pinlet",
         "name": "Carl's Jr.",
         "opening_hours": {
          "open_now": true
         },
         "photos": [
          {
           "height": 4656,
           "html_attributions": [
            "<a href=\"https://maps.google.com/maps/contrib/100581790937954737061\">Kostas Kollias</a>"
           ],
           "photo_reference": "Aap_uECgum1pWLZ8qYgVFnVoD9Q-W2x95mKlKCmR2OVwF9nc6XJqd--7bZN4OPZ4UmX1Gqv2VPrPDktMVqShGttE0j7-7BcT15Idb_UuLFsWRCKY2CaNfIU3xEI3J3U-lQDiL_19Vr3E5SR7rFTQ0x3PTG6it-YXuh-1vlxOUNeOrcQa0N2H",
           "width": 3492
          }
         ],
         "place_id": "ChIJT1JGfkdlcVMRqKtcNDKUlQ0",
         "plus_code": {
          "compound_code": "32J3+9W Calgary, Alberta",
          "global_code": "953832J3+9W"
         },
         "price_level": 2,
         "rating": 3.9,
         "reference": "ChIJT1JGfkdlcVMRqKtcNDKUlQ0",
         "scope": "GOOGLE",
         "types": [
          "restaurant",
          "food",
          "point_of_interest",
          "establishment"
         ],
         "user_ratings_total": 848,
         "vicinity": "2791 32 Ave NE, Calgary"
        },
        {
         "business_status": "OPERATIONAL",
         "geometry": {
          "location": {
           "lat": 51.0381762,
           "lng": -114.0865503
          },
          "viewport": {
           "northeast": {
            "lat": 51.03956792989272,
            "lng": -114.0852120701073
           },
           "southwest": {
            "lat": 51.03686827010728,
            "lng": -114.0879117298927
           }
          }
         },
         "icon": "https://maps.gstatic.com/mapfiles/place_api/icons/v1/png_71/restaurant-71.png",
         "icon_background_color": "#FF9E67",
         "icon_mask_base_uri": "https://maps.gstatic.com/mapfiles/place_api/icons/v2/restaurant_pinlet",
         "name": "Meltwich Food Co.",
         "opening_hours": {
          "open_now": true
         },
         "photos": [
          {
           "height": 1090,
           "html_attributions": [
            "<a href=\"https://maps.google.com/maps/contrib/113197461746099696304\">A Google User</a>"
           ],
           "photo_reference": "Aap_uEBo_089YJAI0mGPC6icD9afZVafL677dASa1mSI2khLQJXqU27HtqqcXxWrJCn9rXukabo6srRXtAurvnSI2zWb8p5Y_YA1SYUIL66o1LffcU8gbv5fSc7AqH7LDLGgu4ca4bNOK8UwhwqPIy5APIVP0sHEYFJ-setlZwF-AKOu8Nm3",
           "width": 1090
          }
         ],
         "place_id": "ChIJCdH_74dxcVMRmk4D7bIYX04",
         "plus_code": {
          "compound_code": "2WQ7+79 Calgary, Alberta",
          "global_code": "95372WQ7+79"
         },
         "rating": 4.6,
         "reference": "ChIJCdH_74dxcVMRmk4D7bIYX04",
         "scope": "GOOGLE",
         "types": [
          "restaurant",
          "food",
          "point_of_interest",
          "establishment"
         ],
         "user_ratings_total": 501,
         "vicinity": "1610 10 St SW, Calgary"
        },
        {
         "business_status": "OPERATIONAL",
         "geometry": {
          "location": {
           "lat": 51.0381541,
           "lng": -114.0778812
          },
          "viewport": {
           "northeast": {
            "lat": 51.03933987989272,
            "lng": -114.0766321201073
           },
           "southwest": {
            "lat": 51.03664022010727,
            "lng": -114.0793317798927
           }
          }
         },
         "icon": "https://maps.gstatic.com/mapfiles/place_api/icons/v1/png_71/restaurant-71.png",
         "icon_background_color": "#FF9E67",
         "icon_mask_base_uri": "https://maps.gstatic.com/mapfiles/place_api/icons/v2/restaurant_pinlet",
         "name": "Damascus Fine Mediterranean Foods",
         "opening_hours": {
          "open_now": true
         },
         "photos": [
          {
           "height": 2816,
           "html_attributions": [
            "<a href=\"https://maps.google.com/maps/contrib/114057778604012499233\">Damascus</a>"
           ],
           "photo_reference": "Aap_uEALRyxcFRC2FMaPB9ww3aRbOHUPV-buIchhghCRAsrbDJ4M5R47GR_qE5v84M_dekdGILELWf5ZzxUmW5SmQBgOt3nI1_rwPiY02ReQUZRMeXOEqZM-AlK5bUgIL_gykzu51ntV9FQEilMg1J4CYqX3XcKyod4gc5ukfasqZxdHA2BW",
           "width": 4032
          }
         ],
         "place_id": "ChIJr1OWCB9wcVMRr3D2aqgZDfk",
         "plus_code": {
          "compound_code": "2WQC+7R Calgary, Alberta",
          "global_code": "95372WQC+7R"
         },
         "price_level": 1,
         "rating": 4.8,
         "reference": "ChIJr1OWCB9wcVMRr3D2aqgZDfk",
         "scope": "GOOGLE",
         "types": [
          "meal_takeaway",
          "restaurant",
          "food",
          "point_of_interest",
          "establishment"
         ],
         "user_ratings_total": 963,
         "vicinity": "718 17 Ave SW #4, Calgary"
        },
        {
         "business_status": "OPERATIONAL",
         "geometry": {
          "location": {
           "lat": 51.0673003,
           "lng": -114.086979
          },
          "viewport": {
           "northeast": {
            "lat": 51.06849247989272,
            "lng": -114.0856938701073
           },
           "southwest": {
            "lat": 51.06579282010727,
            "lng": -114.0883935298927
           }
          }
         },
         "icon": "https://maps.gstatic.com/mapfiles/place_api/icons/v1/png_71/restaurant-71.png",
         "icon_background_color": "#FF9E67",
         "icon_mask_base_uri": "https://maps.gstatic.com/mapfiles/place_api/icons/v2/restaurant_pinlet",
         "name": "Carl's Jr.",
         "opening_hours": {
          "open_now": true
         },
         "photos": [
          {
           "height": 1080,
           "html_attributions": [
            "<a href=\"https://maps.google.com/maps/contrib/101760522368615064968\">A Google User</a>"
           ],
           "photo_reference": "Aap_uEB8pTnBAcGv1XnkFMQanbqnq1mMRDqfZnilV8K29kBVKf_GNKogRgJEVmMjR5Rq3-vvGgZSrqNH5rLBZiacv8ye2nShn3-FCU8QqGjGj2sI_ixV7V_dTyr5vtBfn6WiAN-a8OHJcMaV3FrKUtjWueX2VZdSnBf0JbWXo60nwnrtmF-_",
           "width": 1080
          }
         ],
         "place_id": "ChIJe_I6puBvcVMRUGtag5X90Ik",
         "plus_code": {
          "compound_code": "3W87+W6 Calgary, Alberta",
          "global_code": "95373W87+W6"
         },
         "price_level": 2,
         "rating": 4.1,
         "reference": "ChIJe_I6puBvcVMRUGtag5X90Ik",
         "scope": "GOOGLE",
         "types": [
          "restaurant",
          "food",
          "point_of_interest",
          "establishment"
         ],
         "user_ratings_total": 1328,
         "vicinity": "1140 16 Ave NW, Calgary"
        },
        {
         "business_status": "OPERATIONAL",
         "geometry": {
          "location": {
           "lat": 51.0486151,
           "lng": -114.0708459
          },
          "viewport": {
           "northeast": {
            "lat": 51.04998507989273,
            "lng": -114.0694945201073
           },
           "southwest": {
            "lat": 51.04728542010728,
            "lng": -114.0721941798927
           }
          }
         },
         "icon": "https://maps.gstatic.com/mapfiles/place_api/icons/v1/png_71/generic_business-71.png",
         "icon_background_color": "#7B9EB0",
         "icon_mask_base_uri": "https://maps.gstatic.com/mapfiles/place_api/icons/v2/generic_pinlet",
         "name": "People Food",
         "opening_hours": {
          "open_now": true
         },
         "place_id": "ChIJRV6ucTZucVMR4r9_TcXpyCQ",
         "plus_code": {
          "compound_code": "2WXH+CM Calgary, Alberta",
          "global_code": "95372WXH+CM"
         },
         "rating": 5,
         "reference": "ChIJRV6ucTZucVMR4r9_TcXpyCQ",
         "scope": "GOOGLE",
         "types": [
          "restaurant",
          "food",
          "point_of_interest",
          "establishment"
         ],
         "user_ratings_total": 1,
         "vicinity": "Calgary"
        },
        {
         "business_status": "OPERATIONAL",
         "geometry": {
          "location": {
           "lat": 51.0785187,
           "lng": -114.1310514
          },
          "viewport": {
           "northeast": {
            "lat": 51.07986852989272,
            "lng": -114.1297015701073
           },
           "southwest": {
            "lat": 51.07716887010728,
            "lng": -114.1324012298927
           }
          }
         },
         "icon": "https://maps.gstatic.com/mapfiles/place_api/icons/v1/png_71/restaurant-71.png",
         "icon_background_color": "#FF9E67",
         "icon_mask_base_uri": "https://maps.gstatic.com/mapfiles/place_api/icons/v2/restaurant_pinlet",
         "name": "Carl's Jr.",
         "opening_hours": {
          "open_now": true
         },
         "photos": [
          {
           "height": 1080,
           "html_attributions": [
            "<a href=\"https://maps.google.com/maps/contrib/102945527493496632064\">CARL&#39;&#39;S JR.</a>"
           ],
           "photo_reference": "Aap_uEAYiLjBh0gxrVCoNnTUNwGTSeLn3YBpezjQQYjGBoJgNlNGY2Cgk_0p0yOH1PX_RdJOJVC8cR9mcVExEktO4yF-EfpCQF5fsyL5e7DTQqld03EJWpmQBN2Ndt6SZYh23qFp14ueeZQKog9fwAyYHtBMKSUZg2LlyYH0P8j9KoLYu7U",
           "width": 1080
          }
         ],
         "place_id": "ChIJF272IQlvcVMR0Rshcqmv9qc",
         "plus_code": {
          "compound_code": "3VH9+CH Calgary, Alberta",
          "global_code": "95373VH9+CH"
         },
         "price_level": 2,
         "rating": 3.9,
         "reference": "ChIJF272IQlvcVMR0Rshcqmv9qc",
         "scope": "GOOGLE",
         "types": [
          "restaurant",
          "food",
          "point_of_interest",
          "establishment"
         ],
         "user_ratings_total": 79,
         "vicinity": "2500 University Drive Northwest 298 C, Calgary"
        },
        {
         "business_status": "OPERATIONAL",
         "geometry": {
          "location": {
           "lat": 51.05935789999999,
           "lng": -113.987962
          },
          "viewport": {
           "northeast": {
            "lat": 51.06070817989272,
            "lng": -113.9866950201073
           },
           "southwest": {
            "lat": 51.05800852010727,
            "lng": -113.9893946798927
           }
          }
         },
         "icon": "https://maps.gstatic.com/mapfiles/place_api/icons/v1/png_71/restaurant-71.png",
         "icon_background_color": "#FF9E67",
         "icon_mask_base_uri": "https://maps.gstatic.com/mapfiles/place_api/icons/v2/restaurant_pinlet",
         "name": "Mumbai Bites",
         "opening_hours": {
          "open_now": true
         },
         "photos": [
          {
           "height": 429,
           "html_attributions": [
            "<a href=\"https://maps.google.com/maps/contrib/109151559470235476464\">A Google User</a>"
           ],
           "photo_reference": "Aap_uEBGdCAu88D3K3DLdU9okPlpwK3niHWgD7YiT03M5gx8HBrQJ43Ms_niCRgjCmYDVeL9y5NamWL96jG7MsyZKIcCRsYqij_U5TCT9HRDUfkdcnr4I0PASh-l4oQy0IcxDmQX-QG9cPNTQ0MMgPNRwQVLUD5D_W5pTsMTDX87yLImqJMa",
           "width": 615
          }
         ],
         "place_id": "ChIJ3RsoBLhjcVMRY5iKd0m7GV8",
         "plus_code": {
          "compound_code": "3256+PR Calgary, Alberta",
          "global_code": "95383256+PR"
         },
         "rating": 4.4,
         "reference": "ChIJ3RsoBLhjcVMRY5iKd0m7GV8",
         "scope": "GOOGLE",
         "types": [
          "meal_takeaway",
          "restaurant",
          "food",
          "point_of_interest",
          "establishment"
         ],
         "user_ratings_total": 188,
         "vicinity": "3208 8 Ave NE Unit 620, Calgary"
        },
        {
         "business_status": "OPERATIONAL",
         "geometry": {
          "location": {
           "lat": 51.043668,
           "lng": -114.0786705
          },
          "viewport": {
           "northeast": {
            "lat": 51.04501987989271,
            "lng": -114.0774597701073
           },
           "southwest": {
            "lat": 51.04232022010727,
            "lng": -114.0801594298927
           }
          }
         },
         "icon": "https://maps.gstatic.com/mapfiles/place_api/icons/v1/png_71/restaurant-71.png",
         "icon_background_color": "#FF9E67",
         "icon_mask_base_uri": "https://maps.gstatic.com/mapfiles/place_api/icons/v2/restaurant_pinlet",
         "name": "Bridgette Bar",
         "opening_hours": {
          "open_now": true
         },
         "photos": [
          {
           "height": 1200,
           "html_attributions": [
            "<a href=\"https://maps.google.com/maps/contrib/115833691822905197739\">Bridgette Bar</a>"
           ],
           "photo_reference": "Aap_uEBkXya2SHngDqHBsmL-4RNxd-2DJWIyw6mDkLdDrzxDs0CBF5pP487YX8X3Fb8W_XXOLtK--bj9qZIB4xWpNwdde5VEaf_zaYbaQLuIGlWRrZAhVaixfqi8x_b53i49feI0U-GHTG33n_eEBtekqs-QpYuR5kJ6A9tsweKENoGFK7BR",
           "width": 1200
          }
         ],
         "place_id": "ChIJw_hCeOFvcVMRuvxWSfd8V_s",
         "plus_code": {
          "compound_code": "2WVC+FG Calgary, Alberta",
          "global_code": "95372WVC+FG"
         },
         "price_level": 3,
         "rating": 4.7,
         "reference": "ChIJw_hCeOFvcVMRuvxWSfd8V_s",
         "scope": "GOOGLE",
         "types": [
          "restaurant",
          "bar",
          "food",
          "point_of_interest",
          "establishment"
         ],
         "user_ratings_total": 1736,
         "vicinity": "739 10 Ave SW, Calgary"
        },
        {
         "business_status": "OPERATIONAL",
         "geometry": {
          "location": {
           "lat": 51.0896217,
           "lng": -114.0291567
          },
          "viewport": {
           "northeast": {
            "lat": 51.09051532989272,
            "lng": -114.0278109201073
           },
           "southwest": {
            "lat": 51.08781567010728,
            "lng": -114.0305105798927
           }
          }
         },
         "icon": "https://maps.gstatic.com/mapfiles/place_api/icons/v1/png_71/generic_business-71.png",
         "icon_background_color": "#7B9EB0",
         "icon_mask_base_uri": "https://maps.gstatic.com/mapfiles/place_api/icons/v2/generic_pinlet",
         "name": "Better Prep",
         "opening_hours": {
          "open_now": true
         },
         "photos": [
          {
           "height": 6000,
           "html_attributions": [
            "<a href=\"https://maps.google.com/maps/contrib/106416032713941937663\">A Google User</a>"
           ],
           "photo_reference": "Aap_uEA-eix2BHOT1sc9kTOkdlbCfLQkt2eR0dxGgqKLO6jriyWXiTiZNyofXnbhGm_jgG_qnxHqZdTixVZi9kiPUJOpb0cU14cdy7dFhKjbpod60mIQhx9LB7WBlfhTZnNIyYB0bDhHkXuFOEfjLxGFapowblS4QWhtw7GxCsLCsFxmuerK",
           "width": 4000
          }
         ],
         "place_id": "ChIJAQCUvM5lcVMR8DGDjb2LlMA",
         "plus_code": {
          "compound_code": "3XQC+R8 Calgary, Alberta",
          "global_code": "95373XQC+R8"
         },
         "rating": 4.8,
         "reference": "ChIJAQCUvM5lcVMR8DGDjb2LlMA",
         "scope": "GOOGLE",
         "types": [
          "meal_delivery",
          "restaurant",
          "food",
          "point_of_interest",
          "establishment"
         ],
         "user_ratings_total": 40,
         "vicinity": "1420 40 Ave NE, Calgary"
        },
        {
         "business_status": "OPERATIONAL",
         "geometry": {
          "location": {
           "lat": 51.0510253,
           "lng": -114.0607757
          },
          "viewport": {
           "northeast": {
            "lat": 51.05245342989272,
            "lng": -114.0594778201073
           },
           "southwest": {
            "lat": 51.04975377010727,
            "lng": -114.0621774798927
           }
          }
         },
         "icon": "https://maps.gstatic.com/mapfiles/place_api/icons/v1/png_71/restaurant-71.png",
         "icon_background_color": "#FF9E67",
         "icon_mask_base_uri": "https://maps.gstatic.com/mapfiles/place_api/icons/v2/restaurant_pinlet",
         "name": "Chong Fat Food",
         "opening_hours": {
          "open_now": true
         },
         "photos": [
          {
           "height": 2250,
           "html_attributions": [
            "<a href=\"https://maps.google.com/maps/contrib/107484758050336255654\">Kam Fat Lau</a>"
           ],
           "photo_reference": "Aap_uEAM_832PJY23du1vhgqTqvlRE459stXHGrD5IqlfODFWiO0JAVUnhIQRDiPH_ULbrdrlH3vRaS6HVgJfBnFNFwE6BNMn62ZekXi_JLxhrXwhcVPVALIqKzOfoqXx0zLdpgi9ZiYG3VMHEZmQIvqTyYDNLBjpFkiGAMRc_T1heaMdWmd",
           "width": 4000
          }
         ],
         "place_id": "ChIJlQLFLP9vcVMRBC8Y2eABmdk",
         "plus_code": {
          "compound_code": "3W2Q+CM Calgary, Alberta",
          "global_code": "95373W2Q+CM"
         },
         "rating": 4.5,
         "reference": "ChIJlQLFLP9vcVMRBC8Y2eABmdk",
         "scope": "GOOGLE",
         "types": [
          "restaurant",
          "food",
          "point_of_interest",
          "establishment"
         ],
         "user_ratings_total": 109,
         "vicinity": "132 3 Ave SE, Calgary"
        },
        {
         "business_status": "OPERATIONAL",
         "geometry": {
          "location": {
           "lat": 51.0801779,
           "lng": -113.9962448
          },
          "viewport": {
           "northeast": {
            "lat": 51.08172322989272,
            "lng": -113.9944783201073
           },
           "southwest": {
            "lat": 51.07902357010728,
            "lng": -113.9971779798927
           }
          }
         },
         "icon": "https://maps.gstatic.com/mapfiles/place_api/icons/v1/png_71/restaurant-71.png",
         "icon_background_color": "#FF9E67",
         "icon_mask_base_uri": "https://maps.gstatic.com/mapfiles/place_api/icons/v2/restaurant_pinlet",
         "name": "Yenny Delights",
         "opening_hours": {
          "open_now": true
         },
         "photos": [
          {
           "height": 966,
           "html_attributions": [
            "<a href=\"https://maps.google.com/maps/contrib/106830810224961660290\">A Google User</a>"
           ],
           "photo_reference": "Aap_uEBmx3gxpS6ay0iPlVj-yC_YWk46ic3Olj9rEbOg_0Jnjv3xEf9zIDoZdHSTx0-pPN8OldBGMxlaOJ4LD64iYdB8EKKRKVXpDQdD58RAwsmn-mqujdREOWGe8PU1OBRCXXG3C8aPXUgiNhpc_q4leHrUAyNHSnlbCoIbOCoI2znsZrKQ",
           "width": 1440
          }
         ],
         "place_id": "ChIJ4_0oqAZlcVMRQJbbz0MVHvw",
         "plus_code": {
          "compound_code": "32J3+3G Calgary, Alberta",
          "global_code": "953832J3+3G"
         },
         "rating": 4.8,
         "reference": "ChIJ4_0oqAZlcVMRQJbbz0MVHvw",
         "scope": "GOOGLE",
         "types": [
          "restaurant",
          "food",
          "point_of_interest",
          "establishment"
         ],
         "user_ratings_total": 60,
         "vicinity": "3131 27 St NE #81, Calgary"
        },
        {
         "business_status": "OPERATIONAL",
         "geometry": {
          "location": {
           "lat": 51.037931,
           "lng": -114.0790493
          },
          "viewport": {
           "northeast": {
            "lat": 51.03923002989272,
            "lng": -114.0777002701073
           },
           "southwest": {
            "lat": 51.03653037010727,
            "lng": -114.0803999298927
           }
          }
         },
         "icon": "https://maps.gstatic.com/mapfiles/place_api/icons/v1/png_71/restaurant-71.png",
         "icon_background_color": "#FF9E67",
         "icon_mask_base_uri": "https://maps.gstatic.com/mapfiles/place_api/icons/v2/restaurant_pinlet",
         "name": "The Big Cheese Poutinerie",
         "opening_hours": {
          "open_now": true
         },
         "photos": [
          {
           "height": 3024,
           "html_attributions": [
            "<a href=\"https://maps.google.com/maps/contrib/104755941026369905256\">Vincent Yee</a>"
           ],
           "photo_reference": "Aap_uEDdDoc0d53StOXSvK7H5athko4EVGF35BOlB8xjS8d-BgI8q9S1Y8CgXcZssJvguJY_fBmmpWQ5vVGl0lcTM_-7pzubQtuGiTj9mDZ75rDBPXWpf1-CSnH26OCGFxED8rqhHvidYP3UJ2LESHWAQPFCFFIWNCJKBA6aOg91EfayWUch",
           "width": 4032
          }
         ],
         "place_id": "ChIJ66KbCh9wcVMRa7ELFPwn4ls",
         "plus_code": {
          "compound_code": "2WQC+59 Calgary, Alberta",
          "global_code": "95372WQC+59"
         },
         "rating": 4.3,
         "reference": "ChIJ66KbCh9wcVMRa7ELFPwn4ls",
         "scope": "GOOGLE",
         "types": [
          "restaurant",
          "food",
          "point_of_interest",
          "establishment"
         ],
         "user_ratings_total": 734,
         "vicinity": "738 17 Ave SW, Calgary"
        },
        {
         "business_status": "OPERATIONAL",
         "geometry": {
          "location": {
           "lat": 51.05210460000001,
           "lng": -114.088954
          },
          "viewport": {
           "northeast": {
            "lat": 51.05355482989273,
            "lng": -114.0876580201073
           },
           "southwest": {
            "lat": 51.05085517010728,
            "lng": -114.0903576798927
           }
          }
         },
         "icon": "https://maps.gstatic.com/mapfiles/place_api/icons/v1/png_71/bar-71.png",
         "icon_background_color": "#FF9E67",
         "icon_mask_base_uri": "https://maps.gstatic.com/mapfiles/place_api/icons/v2/bar_pinlet",
         "name": "FREE HOUSE | Local Beer & Food Hall",
         "opening_hours": {
          "open_now": true
         },
         "photos": [
          {
           "height": 2800,
           "html_attributions": [
            "<a href=\"https://maps.google.com/maps/contrib/107561821511589872689\">A Google User</a>"
           ],
           "photo_reference": "Aap_uECfnk3xK2_mgWqDkL4hA4C3UW2ajD0KHFH4K1lDB6DrdO3lUYoyA34v5mlXfVCEpEmd837vXmpSz1bY9QvXkv1BV18Qxc6Oy7acJvjzfZOiJ6yLlkKwJ_vjFsKLh9sOVX7-b47824H7pU7k-qLuaJT35fn7BqJTNAsG2-dwJZTxNBOU",
           "width": 1867
          }
         ],
         "place_id": "ChIJ3Zd5iZhvcVMR1g3lvlvf5qc",
         "plus_code": {
          "compound_code": "3W26+RC Calgary, Alberta",
          "global_code": "95373W26+RC"
         },
         "price_level": 2,
         "rating": 4.4,
         "reference": "ChIJ3Zd5iZhvcVMR1g3lvlvf5qc",
         "scope": "GOOGLE",
         "types": [
          "bar",
          "restaurant",
          "food",
          "point_of_interest",
          "establishment"
         ],
         "user_ratings_total": 181,
         "vicinity": "1153 Kensington Crescent NW, Calgary"
        },
        {
         "business_status": "OPERATIONAL",
         "geometry": {
          "location": {
           "lat": 51.05373969999999,
           "lng": -114.0514701
          },
          "viewport": {
           "northeast": {
            "lat": 51.05508952989272,
            "lng": -114.0501202701073
           },
           "southwest": {
            "lat": 51.05238987010728,
            "lng": -114.0528199298927
           }
          }
         },
         "icon": "https://maps.gstatic.com/mapfiles/place_api/icons/v1/png_71/restaurant-71.png",
         "icon_background_color": "#FF9E67",
         "icon_mask_base_uri": "https://maps.gstatic.com/mapfiles/place_api/icons/v2/restaurant_pinlet",
         "name": "Mondays Plant Café",
         "opening_hours": {
          "open_now": true
         },
         "photos": [
          {
           "height": 1960,
           "html_attributions": [
            "<a href=\"https://maps.google.com/maps/contrib/110612490051751665455\">Malina Craciun</a>"
           ],
           "photo_reference": "Aap_uEAASiCw94FhLWzFI9jBLawX33xUhcCf5sNYppdvNHv6x8k33YLyF0GiXd-LjDf8WueK0G_ZerRh6-EjSIo4jpqNwiBeAQIxWENVSPDauBmGMrbmaK5ECmacYA9CZJrngDRVEEKT9_fz5rT7a1yFgTVikJm1XeeO4e0WHjTeI2hdXRp8",
           "width": 4032
          }
         ],
         "place_id": "ChIJlyCi4ehvcVMRCxR8f6urzEk",
         "plus_code": {
          "compound_code": "3W3X+FC Calgary, Alberta",
          "global_code": "95373W3X+FC"
         },
         "price_level": 1,
         "rating": 4.8,
         "reference": "ChIJlyCi4ehvcVMRCxR8f6urzEk",
         "scope": "GOOGLE",
         "types": [
          "restaurant",
          "food",
          "point_of_interest",
          "establishment"
         ],
         "user_ratings_total": 290,
         "vicinity": "208 4 St NE, Calgary"
        },
        {
         "business_status": "OPERATIONAL",
         "geometry": {
          "location": {
           "lat": 51.0772068,
           "lng": -114.0061787
          },
          "viewport": {
           "northeast": {
            "lat": 51.07842237989272,
            "lng": -114.0045264201073
           },
           "southwest": {
            "lat": 51.07572272010727,
            "lng": -114.0072260798927
           }
          }
         },
         "icon": "https://maps.gstatic.com/mapfiles/place_api/icons/v1/png_71/restaurant-71.png",
         "icon_background_color": "#FF9E67",
         "icon_mask_base_uri": "https://maps.gstatic.com/mapfiles/place_api/icons/v2/restaurant_pinlet",
         "name": "FoodNVibes Caribbean Restaurant & lounge",
         "opening_hours": {
          "open_now": true
         },
         "photos": [
          {
           "height": 1280,
           "html_attributions": [
            "<a href=\"https://maps.google.com/maps/contrib/117913017942055856598\">A Google User</a>"
           ],
           "photo_reference": "Aap_uECv9P78wgseJKKgjHX3ls_lzryrHgwaWkT8zdX7vf5pVMXpi4jeEyEWyY84vjZHVFsdoc7-sd4hYIpFN3lT_uW6St9LgD6YrkljHrbSUoYN0uurpjqP7axm6pMxxJhn3KkF1ISQFKpjJGxD9SItFsyoZZYwPJyxItmEFMCimJPC1E_m",
           "width": 960
          }
         ],
         "place_id": "ChIJa7aNqkRlcVMRFTI4e_kFMc0",
         "plus_code": {
          "compound_code": "3XGV+VG Calgary, Alberta",
          "global_code": "95373XGV+VG"
         },
         "rating": 4.8,
         "reference": "ChIJa7aNqkRlcVMRFTI4e_kFMc0",
         "scope": "GOOGLE",
         "types": [
          "restaurant",
          "food",
          "point_of_interest",
          "establishment"
         ],
         "user_ratings_total": 110,
         "vicinity": "2316 27 Ave NE #6a, Calgary"
        }
       ],
       "status": "OK"
      },
      "text/plain": [
       "<IPython.core.display.JSON object>"
      ]
     },
     "execution_count": 5,
     "metadata": {
      "application/json": {
       "expanded": false,
       "root": "root"
      }
     },
     "output_type": "execute_result"
    }
   ],
   "source": [
    "result= res.json()\n",
    "JSON(result)"
   ]
  },
  {
   "cell_type": "code",
   "execution_count": 6,
   "id": "2e307382-b567-48ff-9b88-97ac9ae40f1b",
   "metadata": {},
   "outputs": [],
   "source": [
    "import sqlite3\n",
    "from sqlite3 import Error\n"
   ]
  },
  {
   "cell_type": "code",
   "execution_count": 7,
   "id": "b3eed859-eabf-4d6b-a9e5-7e5076514d00",
   "metadata": {},
   "outputs": [],
   "source": [
    "def create_connection(path):\n",
    "    connection = None\n",
    "    try:\n",
    "        connection = sqlite3.connect(path)\n",
    "        print(\"Connection to SQLite DB successful\")\n",
    "    except Error as e:\n",
    "        print(f\"The error '{e}' occurred\")\n",
    "    return connection"
   ]
  },
  {
   "cell_type": "code",
   "execution_count": 8,
   "id": "5abf30b8-5142-46db-b261-caab4fe26c22",
   "metadata": {},
   "outputs": [
    {
     "name": "stdout",
     "output_type": "stream",
     "text": [
      "Connection to SQLite DB successful\n"
     ]
    }
   ],
   "source": [
    "connection = create_connection(\"downtown_calgary_POI.sqlite\")"
   ]
  },
  {
   "cell_type": "code",
   "execution_count": 9,
   "id": "2f6d2a99-35b2-4dec-bee9-8f2692533749",
   "metadata": {},
   "outputs": [],
   "source": [
    "def execute_query(connection, query):\n",
    "    cursor = connection.cursor()\n",
    "    try:\n",
    "        cursor.execute(query)\n",
    "        connection.commit()\n",
    "        print(\"Query executed successfully\")\n",
    "    except Error as e:\n",
    "        print(f\"The error '{e}' occurred\")"
   ]
  },
  {
   "cell_type": "code",
   "execution_count": 10,
   "id": "6c607d71-ebd0-42ca-8ef9-615ea0d3f73b",
   "metadata": {},
   "outputs": [
    {
     "data": {
      "text/html": [
       "<div>\n",
       "<style scoped>\n",
       "    .dataframe tbody tr th:only-of-type {\n",
       "        vertical-align: middle;\n",
       "    }\n",
       "\n",
       "    .dataframe tbody tr th {\n",
       "        vertical-align: top;\n",
       "    }\n",
       "\n",
       "    .dataframe thead th {\n",
       "        text-align: right;\n",
       "    }\n",
       "</style>\n",
       "<table border=\"1\" class=\"dataframe\">\n",
       "  <thead>\n",
       "    <tr style=\"text-align: right;\">\n",
       "      <th></th>\n",
       "      <th>business_status</th>\n",
       "      <th>name</th>\n",
       "      <th>rating</th>\n",
       "      <th>user_ratings_total</th>\n",
       "      <th>vicinity</th>\n",
       "      <th>geometry.location.lat</th>\n",
       "      <th>geometry.location.lng</th>\n",
       "      <th>geometry.viewport.northeast.lat</th>\n",
       "      <th>geometry.viewport.northeast.lng</th>\n",
       "      <th>geometry.viewport.southwest.lat</th>\n",
       "      <th>geometry.viewport.southwest.lng</th>\n",
       "      <th>opening_hours.open_now</th>\n",
       "      <th>permanently_closed</th>\n",
       "      <th>price_level</th>\n",
       "    </tr>\n",
       "  </thead>\n",
       "  <tbody>\n",
       "    <tr>\n",
       "      <th>0</th>\n",
       "      <td>OPERATIONAL</td>\n",
       "      <td>WholeLifeGo</td>\n",
       "      <td>5.0</td>\n",
       "      <td>152</td>\n",
       "      <td>340 14 St NW, Calgary</td>\n",
       "      <td>51.054721</td>\n",
       "      <td>-114.094418</td>\n",
       "      <td>51.056071</td>\n",
       "      <td>-114.093224</td>\n",
       "      <td>51.053371</td>\n",
       "      <td>-114.095923</td>\n",
       "      <td>True</td>\n",
       "      <td>NaN</td>\n",
       "      <td>NaN</td>\n",
       "    </tr>\n",
       "    <tr>\n",
       "      <th>1</th>\n",
       "      <td>CLOSED_TEMPORARILY</td>\n",
       "      <td>Vivaan's Yummies. Indian Street Food</td>\n",
       "      <td>4.9</td>\n",
       "      <td>156</td>\n",
       "      <td>3309 19 St NE, Calgary</td>\n",
       "      <td>51.082129</td>\n",
       "      <td>-114.012339</td>\n",
       "      <td>51.083476</td>\n",
       "      <td>-114.010697</td>\n",
       "      <td>51.080777</td>\n",
       "      <td>-114.013397</td>\n",
       "      <td>NaN</td>\n",
       "      <td>True</td>\n",
       "      <td>NaN</td>\n",
       "    </tr>\n",
       "  </tbody>\n",
       "</table>\n",
       "</div>"
      ],
      "text/plain": [
       "      business_status                                  name  rating  \\\n",
       "0         OPERATIONAL                           WholeLifeGo     5.0   \n",
       "1  CLOSED_TEMPORARILY  Vivaan's Yummies. Indian Street Food     4.9   \n",
       "\n",
       "   user_ratings_total                vicinity  geometry.location.lat  \\\n",
       "0                 152   340 14 St NW, Calgary              51.054721   \n",
       "1                 156  3309 19 St NE, Calgary              51.082129   \n",
       "\n",
       "   geometry.location.lng  geometry.viewport.northeast.lat  \\\n",
       "0            -114.094418                        51.056071   \n",
       "1            -114.012339                        51.083476   \n",
       "\n",
       "   geometry.viewport.northeast.lng  geometry.viewport.southwest.lat  \\\n",
       "0                      -114.093224                        51.053371   \n",
       "1                      -114.010697                        51.080777   \n",
       "\n",
       "   geometry.viewport.southwest.lng opening_hours.open_now permanently_closed  \\\n",
       "0                      -114.095923                   True                NaN   \n",
       "1                      -114.013397                    NaN               True   \n",
       "\n",
       "   price_level  \n",
       "0          NaN  \n",
       "1          NaN  "
      ]
     },
     "execution_count": 10,
     "metadata": {},
     "output_type": "execute_result"
    }
   ],
   "source": [
    "#open JSON data\n",
    "df = pd.json_normalize(result, \"results\")\n",
    "df.head(2)\n",
    "#remove come columns\n",
    "df1= df.drop(columns=[\"place_id\",\"photos\",\"types\",\"icon\",\"plus_code.compound_code\",\"plus_code.global_code\",\"icon_mask_base_uri\", \"icon_background_color\", \"reference\", \"scope\"])\n",
    "df1.head(2)"
   ]
  },
  {
   "cell_type": "code",
   "execution_count": 11,
   "id": "18bd5016-74c9-46c5-b212-99f7977b2dc6",
   "metadata": {},
   "outputs": [
    {
     "ename": "ValueError",
     "evalue": "Table 'google_businesses' already exists.",
     "output_type": "error",
     "traceback": [
      "\u001b[0;31m---------------------------------------------------------------------------\u001b[0m",
      "\u001b[0;31mValueError\u001b[0m                                Traceback (most recent call last)",
      "\u001b[0;32m/tmp/ipykernel_33732/365749982.py\u001b[0m in \u001b[0;36m<module>\u001b[0;34m\u001b[0m\n\u001b[1;32m      1\u001b[0m \u001b[0;31m#create table in sql\u001b[0m\u001b[0;34m\u001b[0m\u001b[0;34m\u001b[0m\u001b[0;34m\u001b[0m\u001b[0m\n\u001b[0;32m----> 2\u001b[0;31m \u001b[0mdf_sql\u001b[0m \u001b[0;34m=\u001b[0m \u001b[0mdf1\u001b[0m\u001b[0;34m.\u001b[0m\u001b[0mto_sql\u001b[0m\u001b[0;34m(\u001b[0m\u001b[0;34m'google_businesses'\u001b[0m\u001b[0;34m,\u001b[0m \u001b[0mconnection\u001b[0m\u001b[0;34m,\u001b[0m \u001b[0mif_exists\u001b[0m\u001b[0;34m=\u001b[0m\u001b[0;34m'fail'\u001b[0m\u001b[0;34m,\u001b[0m \u001b[0mindex\u001b[0m\u001b[0;34m=\u001b[0m\u001b[0;32mTrue\u001b[0m\u001b[0;34m)\u001b[0m\u001b[0;34m\u001b[0m\u001b[0;34m\u001b[0m\u001b[0m\n\u001b[0m",
      "\u001b[0;32m~/.local/lib/python3.8/site-packages/pandas/core/generic.py\u001b[0m in \u001b[0;36mto_sql\u001b[0;34m(self, name, con, schema, if_exists, index, index_label, chunksize, dtype, method)\u001b[0m\n\u001b[1;32m   2651\u001b[0m         \u001b[0;32mfrom\u001b[0m \u001b[0mpandas\u001b[0m\u001b[0;34m.\u001b[0m\u001b[0mio\u001b[0m \u001b[0;32mimport\u001b[0m \u001b[0msql\u001b[0m\u001b[0;34m\u001b[0m\u001b[0;34m\u001b[0m\u001b[0m\n\u001b[1;32m   2652\u001b[0m \u001b[0;34m\u001b[0m\u001b[0m\n\u001b[0;32m-> 2653\u001b[0;31m         sql.to_sql(\n\u001b[0m\u001b[1;32m   2654\u001b[0m             \u001b[0mself\u001b[0m\u001b[0;34m,\u001b[0m\u001b[0;34m\u001b[0m\u001b[0;34m\u001b[0m\u001b[0m\n\u001b[1;32m   2655\u001b[0m             \u001b[0mname\u001b[0m\u001b[0;34m,\u001b[0m\u001b[0;34m\u001b[0m\u001b[0;34m\u001b[0m\u001b[0m\n",
      "\u001b[0;32m~/.local/lib/python3.8/site-packages/pandas/io/sql.py\u001b[0m in \u001b[0;36mto_sql\u001b[0;34m(frame, name, con, schema, if_exists, index, index_label, chunksize, dtype, method)\u001b[0m\n\u001b[1;32m    510\u001b[0m         )\n\u001b[1;32m    511\u001b[0m \u001b[0;34m\u001b[0m\u001b[0m\n\u001b[0;32m--> 512\u001b[0;31m     pandas_sql.to_sql(\n\u001b[0m\u001b[1;32m    513\u001b[0m         \u001b[0mframe\u001b[0m\u001b[0;34m,\u001b[0m\u001b[0;34m\u001b[0m\u001b[0;34m\u001b[0m\u001b[0m\n\u001b[1;32m    514\u001b[0m         \u001b[0mname\u001b[0m\u001b[0;34m,\u001b[0m\u001b[0;34m\u001b[0m\u001b[0;34m\u001b[0m\u001b[0m\n",
      "\u001b[0;32m~/.local/lib/python3.8/site-packages/pandas/io/sql.py\u001b[0m in \u001b[0;36mto_sql\u001b[0;34m(self, frame, name, if_exists, index, index_label, schema, chunksize, dtype, method)\u001b[0m\n\u001b[1;32m   1731\u001b[0m             \u001b[0mdtype\u001b[0m\u001b[0;34m=\u001b[0m\u001b[0mdtype\u001b[0m\u001b[0;34m,\u001b[0m\u001b[0;34m\u001b[0m\u001b[0;34m\u001b[0m\u001b[0m\n\u001b[1;32m   1732\u001b[0m         )\n\u001b[0;32m-> 1733\u001b[0;31m         \u001b[0mtable\u001b[0m\u001b[0;34m.\u001b[0m\u001b[0mcreate\u001b[0m\u001b[0;34m(\u001b[0m\u001b[0;34m)\u001b[0m\u001b[0;34m\u001b[0m\u001b[0;34m\u001b[0m\u001b[0m\n\u001b[0m\u001b[1;32m   1734\u001b[0m         \u001b[0mtable\u001b[0m\u001b[0;34m.\u001b[0m\u001b[0minsert\u001b[0m\u001b[0;34m(\u001b[0m\u001b[0mchunksize\u001b[0m\u001b[0;34m,\u001b[0m \u001b[0mmethod\u001b[0m\u001b[0;34m)\u001b[0m\u001b[0;34m\u001b[0m\u001b[0;34m\u001b[0m\u001b[0m\n\u001b[1;32m   1735\u001b[0m \u001b[0;34m\u001b[0m\u001b[0m\n",
      "\u001b[0;32m~/.local/lib/python3.8/site-packages/pandas/io/sql.py\u001b[0m in \u001b[0;36mcreate\u001b[0;34m(self)\u001b[0m\n\u001b[1;32m    644\u001b[0m         \u001b[0;32mif\u001b[0m \u001b[0mself\u001b[0m\u001b[0;34m.\u001b[0m\u001b[0mexists\u001b[0m\u001b[0;34m(\u001b[0m\u001b[0;34m)\u001b[0m\u001b[0;34m:\u001b[0m\u001b[0;34m\u001b[0m\u001b[0;34m\u001b[0m\u001b[0m\n\u001b[1;32m    645\u001b[0m             \u001b[0;32mif\u001b[0m \u001b[0mself\u001b[0m\u001b[0;34m.\u001b[0m\u001b[0mif_exists\u001b[0m \u001b[0;34m==\u001b[0m \u001b[0;34m\"fail\"\u001b[0m\u001b[0;34m:\u001b[0m\u001b[0;34m\u001b[0m\u001b[0;34m\u001b[0m\u001b[0m\n\u001b[0;32m--> 646\u001b[0;31m                 \u001b[0;32mraise\u001b[0m \u001b[0mValueError\u001b[0m\u001b[0;34m(\u001b[0m\u001b[0;34mf\"Table '{self.name}' already exists.\"\u001b[0m\u001b[0;34m)\u001b[0m\u001b[0;34m\u001b[0m\u001b[0;34m\u001b[0m\u001b[0m\n\u001b[0m\u001b[1;32m    647\u001b[0m             \u001b[0;32melif\u001b[0m \u001b[0mself\u001b[0m\u001b[0;34m.\u001b[0m\u001b[0mif_exists\u001b[0m \u001b[0;34m==\u001b[0m \u001b[0;34m\"replace\"\u001b[0m\u001b[0;34m:\u001b[0m\u001b[0;34m\u001b[0m\u001b[0;34m\u001b[0m\u001b[0m\n\u001b[1;32m    648\u001b[0m                 \u001b[0mself\u001b[0m\u001b[0;34m.\u001b[0m\u001b[0mpd_sql\u001b[0m\u001b[0;34m.\u001b[0m\u001b[0mdrop_table\u001b[0m\u001b[0;34m(\u001b[0m\u001b[0mself\u001b[0m\u001b[0;34m.\u001b[0m\u001b[0mname\u001b[0m\u001b[0;34m,\u001b[0m \u001b[0mself\u001b[0m\u001b[0;34m.\u001b[0m\u001b[0mschema\u001b[0m\u001b[0;34m)\u001b[0m\u001b[0;34m\u001b[0m\u001b[0;34m\u001b[0m\u001b[0m\n",
      "\u001b[0;31mValueError\u001b[0m: Table 'google_businesses' already exists."
     ]
    }
   ],
   "source": [
    "#create table in sql\n",
    "df_sql = df1.to_sql('google_businesses', connection, if_exists='fail', index=True)"
   ]
  },
  {
   "cell_type": "code",
   "execution_count": null,
   "id": "35c8e220-2952-41fa-ad6c-ae88c317cc1e",
   "metadata": {},
   "outputs": [],
   "source": [
    "#Selecting records\n",
    "def execute_read_query(connection, query):\n",
    "    cursor= connection.cursor()\n",
    "    result = None\n",
    "    try:\n",
    "        cursor.execute(query)\n",
    "        result=cursor.fetchall()\n",
    "        return result\n",
    "    except Error as e:\n",
    "        print(f\"The error '{e}' occurred\")"
   ]
  },
  {
   "cell_type": "code",
   "execution_count": null,
   "id": "1d2a3171-343a-4b88-9f79-a3b772fa4356",
   "metadata": {},
   "outputs": [],
   "source": [
    "#google = \"SELECT * from yelp_businesses\"\n",
    "#google_bus = execute_read_query(connection, google)\n",
    "\n",
    "#for bus in google_bus:\n",
    " #   print(bus)"
   ]
  },
  {
   "cell_type": "code",
   "execution_count": 14,
   "id": "179ebc82-dd95-4904-ac1d-67e383e66d44",
   "metadata": {},
   "outputs": [
    {
     "data": {
      "text/html": [
       "<div>\n",
       "<style scoped>\n",
       "    .dataframe tbody tr th:only-of-type {\n",
       "        vertical-align: middle;\n",
       "    }\n",
       "\n",
       "    .dataframe tbody tr th {\n",
       "        vertical-align: top;\n",
       "    }\n",
       "\n",
       "    .dataframe thead th {\n",
       "        text-align: right;\n",
       "    }\n",
       "</style>\n",
       "<table border=\"1\" class=\"dataframe\">\n",
       "  <thead>\n",
       "    <tr style=\"text-align: right;\">\n",
       "      <th></th>\n",
       "      <th>business_status</th>\n",
       "      <th>name</th>\n",
       "      <th>rating</th>\n",
       "      <th>user_ratings_total</th>\n",
       "      <th>vicinity</th>\n",
       "      <th>geometry.location.lat</th>\n",
       "      <th>geometry.location.lng</th>\n",
       "      <th>geometry.viewport.northeast.lat</th>\n",
       "      <th>geometry.viewport.northeast.lng</th>\n",
       "      <th>geometry.viewport.southwest.lat</th>\n",
       "      <th>geometry.viewport.southwest.lng</th>\n",
       "      <th>opening_hours.open_now</th>\n",
       "      <th>permanently_closed</th>\n",
       "      <th>price_level</th>\n",
       "    </tr>\n",
       "  </thead>\n",
       "  <tbody>\n",
       "    <tr>\n",
       "      <th>0</th>\n",
       "      <td>OPERATIONAL</td>\n",
       "      <td>WholeLifeGo</td>\n",
       "      <td>5.0</td>\n",
       "      <td>152</td>\n",
       "      <td>340 14 St NW, Calgary</td>\n",
       "      <td>51.054721</td>\n",
       "      <td>-114.094418</td>\n",
       "      <td>51.056071</td>\n",
       "      <td>-114.093224</td>\n",
       "      <td>51.053371</td>\n",
       "      <td>-114.095923</td>\n",
       "      <td>True</td>\n",
       "      <td>NaN</td>\n",
       "      <td>NaN</td>\n",
       "    </tr>\n",
       "    <tr>\n",
       "      <th>9</th>\n",
       "      <td>OPERATIONAL</td>\n",
       "      <td>People Food</td>\n",
       "      <td>5.0</td>\n",
       "      <td>1</td>\n",
       "      <td>Calgary</td>\n",
       "      <td>51.048615</td>\n",
       "      <td>-114.070846</td>\n",
       "      <td>51.049985</td>\n",
       "      <td>-114.069495</td>\n",
       "      <td>51.047285</td>\n",
       "      <td>-114.072194</td>\n",
       "      <td>True</td>\n",
       "      <td>NaN</td>\n",
       "      <td>NaN</td>\n",
       "    </tr>\n",
       "    <tr>\n",
       "      <th>1</th>\n",
       "      <td>CLOSED_TEMPORARILY</td>\n",
       "      <td>Vivaan's Yummies. Indian Street Food</td>\n",
       "      <td>4.9</td>\n",
       "      <td>156</td>\n",
       "      <td>3309 19 St NE, Calgary</td>\n",
       "      <td>51.082129</td>\n",
       "      <td>-114.012339</td>\n",
       "      <td>51.083476</td>\n",
       "      <td>-114.010697</td>\n",
       "      <td>51.080777</td>\n",
       "      <td>-114.013397</td>\n",
       "      <td>NaN</td>\n",
       "      <td>True</td>\n",
       "      <td>NaN</td>\n",
       "    </tr>\n",
       "    <tr>\n",
       "      <th>7</th>\n",
       "      <td>OPERATIONAL</td>\n",
       "      <td>Damascus Fine Mediterranean Foods</td>\n",
       "      <td>4.8</td>\n",
       "      <td>963</td>\n",
       "      <td>718 17 Ave SW #4, Calgary</td>\n",
       "      <td>51.038154</td>\n",
       "      <td>-114.077881</td>\n",
       "      <td>51.039340</td>\n",
       "      <td>-114.076632</td>\n",
       "      <td>51.036640</td>\n",
       "      <td>-114.079332</td>\n",
       "      <td>True</td>\n",
       "      <td>NaN</td>\n",
       "      <td>1.0</td>\n",
       "    </tr>\n",
       "    <tr>\n",
       "      <th>18</th>\n",
       "      <td>OPERATIONAL</td>\n",
       "      <td>Mondays Plant Café</td>\n",
       "      <td>4.8</td>\n",
       "      <td>290</td>\n",
       "      <td>208 4 St NE, Calgary</td>\n",
       "      <td>51.053740</td>\n",
       "      <td>-114.051470</td>\n",
       "      <td>51.055090</td>\n",
       "      <td>-114.050120</td>\n",
       "      <td>51.052390</td>\n",
       "      <td>-114.052820</td>\n",
       "      <td>True</td>\n",
       "      <td>NaN</td>\n",
       "      <td>1.0</td>\n",
       "    </tr>\n",
       "    <tr>\n",
       "      <th>15</th>\n",
       "      <td>OPERATIONAL</td>\n",
       "      <td>Yenny Delights</td>\n",
       "      <td>4.8</td>\n",
       "      <td>60</td>\n",
       "      <td>3131 27 St NE #81, Calgary</td>\n",
       "      <td>51.080178</td>\n",
       "      <td>-113.996245</td>\n",
       "      <td>51.081723</td>\n",
       "      <td>-113.994478</td>\n",
       "      <td>51.079024</td>\n",
       "      <td>-113.997178</td>\n",
       "      <td>True</td>\n",
       "      <td>NaN</td>\n",
       "      <td>NaN</td>\n",
       "    </tr>\n",
       "    <tr>\n",
       "      <th>13</th>\n",
       "      <td>OPERATIONAL</td>\n",
       "      <td>Better Prep</td>\n",
       "      <td>4.8</td>\n",
       "      <td>40</td>\n",
       "      <td>1420 40 Ave NE, Calgary</td>\n",
       "      <td>51.089622</td>\n",
       "      <td>-114.029157</td>\n",
       "      <td>51.090515</td>\n",
       "      <td>-114.027811</td>\n",
       "      <td>51.087816</td>\n",
       "      <td>-114.030511</td>\n",
       "      <td>True</td>\n",
       "      <td>NaN</td>\n",
       "      <td>NaN</td>\n",
       "    </tr>\n",
       "    <tr>\n",
       "      <th>19</th>\n",
       "      <td>OPERATIONAL</td>\n",
       "      <td>FoodNVibes Caribbean Restaurant &amp; lounge</td>\n",
       "      <td>4.8</td>\n",
       "      <td>110</td>\n",
       "      <td>2316 27 Ave NE #6a, Calgary</td>\n",
       "      <td>51.077207</td>\n",
       "      <td>-114.006179</td>\n",
       "      <td>51.078422</td>\n",
       "      <td>-114.004526</td>\n",
       "      <td>51.075723</td>\n",
       "      <td>-114.007226</td>\n",
       "      <td>True</td>\n",
       "      <td>NaN</td>\n",
       "      <td>NaN</td>\n",
       "    </tr>\n",
       "    <tr>\n",
       "      <th>12</th>\n",
       "      <td>OPERATIONAL</td>\n",
       "      <td>Bridgette Bar</td>\n",
       "      <td>4.7</td>\n",
       "      <td>1736</td>\n",
       "      <td>739 10 Ave SW, Calgary</td>\n",
       "      <td>51.043668</td>\n",
       "      <td>-114.078671</td>\n",
       "      <td>51.045020</td>\n",
       "      <td>-114.077460</td>\n",
       "      <td>51.042320</td>\n",
       "      <td>-114.080159</td>\n",
       "      <td>True</td>\n",
       "      <td>NaN</td>\n",
       "      <td>3.0</td>\n",
       "    </tr>\n",
       "    <tr>\n",
       "      <th>6</th>\n",
       "      <td>OPERATIONAL</td>\n",
       "      <td>Meltwich Food Co.</td>\n",
       "      <td>4.6</td>\n",
       "      <td>501</td>\n",
       "      <td>1610 10 St SW, Calgary</td>\n",
       "      <td>51.038176</td>\n",
       "      <td>-114.086550</td>\n",
       "      <td>51.039568</td>\n",
       "      <td>-114.085212</td>\n",
       "      <td>51.036868</td>\n",
       "      <td>-114.087912</td>\n",
       "      <td>True</td>\n",
       "      <td>NaN</td>\n",
       "      <td>NaN</td>\n",
       "    </tr>\n",
       "  </tbody>\n",
       "</table>\n",
       "</div>"
      ],
      "text/plain": [
       "       business_status                                      name  rating  \\\n",
       "0          OPERATIONAL                               WholeLifeGo     5.0   \n",
       "9          OPERATIONAL                               People Food     5.0   \n",
       "1   CLOSED_TEMPORARILY      Vivaan's Yummies. Indian Street Food     4.9   \n",
       "7          OPERATIONAL         Damascus Fine Mediterranean Foods     4.8   \n",
       "18         OPERATIONAL                        Mondays Plant Café     4.8   \n",
       "15         OPERATIONAL                            Yenny Delights     4.8   \n",
       "13         OPERATIONAL                               Better Prep     4.8   \n",
       "19         OPERATIONAL  FoodNVibes Caribbean Restaurant & lounge     4.8   \n",
       "12         OPERATIONAL                             Bridgette Bar     4.7   \n",
       "6          OPERATIONAL                         Meltwich Food Co.     4.6   \n",
       "\n",
       "    user_ratings_total                     vicinity  geometry.location.lat  \\\n",
       "0                  152        340 14 St NW, Calgary              51.054721   \n",
       "9                    1                      Calgary              51.048615   \n",
       "1                  156       3309 19 St NE, Calgary              51.082129   \n",
       "7                  963    718 17 Ave SW #4, Calgary              51.038154   \n",
       "18                 290         208 4 St NE, Calgary              51.053740   \n",
       "15                  60   3131 27 St NE #81, Calgary              51.080178   \n",
       "13                  40      1420 40 Ave NE, Calgary              51.089622   \n",
       "19                 110  2316 27 Ave NE #6a, Calgary              51.077207   \n",
       "12                1736       739 10 Ave SW, Calgary              51.043668   \n",
       "6                  501       1610 10 St SW, Calgary              51.038176   \n",
       "\n",
       "    geometry.location.lng  geometry.viewport.northeast.lat  \\\n",
       "0             -114.094418                        51.056071   \n",
       "9             -114.070846                        51.049985   \n",
       "1             -114.012339                        51.083476   \n",
       "7             -114.077881                        51.039340   \n",
       "18            -114.051470                        51.055090   \n",
       "15            -113.996245                        51.081723   \n",
       "13            -114.029157                        51.090515   \n",
       "19            -114.006179                        51.078422   \n",
       "12            -114.078671                        51.045020   \n",
       "6             -114.086550                        51.039568   \n",
       "\n",
       "    geometry.viewport.northeast.lng  geometry.viewport.southwest.lat  \\\n",
       "0                       -114.093224                        51.053371   \n",
       "9                       -114.069495                        51.047285   \n",
       "1                       -114.010697                        51.080777   \n",
       "7                       -114.076632                        51.036640   \n",
       "18                      -114.050120                        51.052390   \n",
       "15                      -113.994478                        51.079024   \n",
       "13                      -114.027811                        51.087816   \n",
       "19                      -114.004526                        51.075723   \n",
       "12                      -114.077460                        51.042320   \n",
       "6                       -114.085212                        51.036868   \n",
       "\n",
       "    geometry.viewport.southwest.lng opening_hours.open_now permanently_closed  \\\n",
       "0                       -114.095923                   True                NaN   \n",
       "9                       -114.072194                   True                NaN   \n",
       "1                       -114.013397                    NaN               True   \n",
       "7                       -114.079332                   True                NaN   \n",
       "18                      -114.052820                   True                NaN   \n",
       "15                      -113.997178                   True                NaN   \n",
       "13                      -114.030511                   True                NaN   \n",
       "19                      -114.007226                   True                NaN   \n",
       "12                      -114.080159                   True                NaN   \n",
       "6                       -114.087912                   True                NaN   \n",
       "\n",
       "    price_level  \n",
       "0           NaN  \n",
       "9           NaN  \n",
       "1           NaN  \n",
       "7           1.0  \n",
       "18          1.0  \n",
       "15          NaN  \n",
       "13          NaN  \n",
       "19          NaN  \n",
       "12          3.0  \n",
       "6           NaN  "
      ]
     },
     "execution_count": 14,
     "metadata": {},
     "output_type": "execute_result"
    }
   ],
   "source": [
    "top_10_POI = df1.sort_values(by=[\"rating\"], ascending= False)\n",
    "top_10_POI.head(10)"
   ]
  },
  {
   "cell_type": "code",
   "execution_count": 23,
   "id": "6ed09587-08fe-468f-ad15-ac416cacdc1c",
   "metadata": {},
   "outputs": [],
   "source": [
    "from ortools.constraint_solver import routing_enums_pb2\n",
    "from ortools.constraint_solver import pywrapcp"
   ]
  },
  {
   "cell_type": "code",
   "execution_count": 27,
   "id": "37e9ec2d-e528-4135-83ca-6fb2dd657645",
   "metadata": {},
   "outputs": [],
   "source": [
    "def create_data_model():\n",
    "    \"\"\"Stores the data for the problem.\"\"\"\n",
    "    data = {}\n",
    "    # Locations in block units\n",
    "    data['locations'] = [\n",
    "        (51.054721 ,-114.094418),(51.048615, -114.070846), \n",
    "        (51.082129 ,-114.012339),(51.038154,-114.077881),\n",
    "        (51.053740 ,-114.051470),(51.080178 ,-113.996245),\n",
    "        (51.089622 ,-114.029157), (51.077207 ,-114.006179),\n",
    "        (51.043668 ,-114.078671),(51.038176,-114.086550 )\n",
    "        \n",
    "         ]  # yapf: disable\n",
    "    data['num_vehicles'] = 1\n",
    "    data['depot'] = 0\n",
    "    return data\n"
   ]
  },
  {
   "cell_type": "code",
   "execution_count": 28,
   "id": "7995de16-8dfa-4bac-9c98-ab1b8e22f1d6",
   "metadata": {},
   "outputs": [],
   "source": [
    "def compute_euclidean_distance_matrix(locations):\n",
    "    \"\"\"Creates callback to return distance between points.\"\"\"\n",
    "    distances = {}\n",
    "    for from_counter, from_node in enumerate(locations):\n",
    "        distances[from_counter] = {}\n",
    "        for to_counter, to_node in enumerate(locations):\n",
    "            if from_counter == to_counter:\n",
    "                distances[from_counter][to_counter] = 0\n",
    "            else:\n",
    "                # Euclidean distance\n",
    "                distances[from_counter][to_counter] = (int(\n",
    "                    math.hypot((from_node[0] - to_node[0]),\n",
    "                               (from_node[1] - to_node[1]))))\n",
    "    return distances"
   ]
  },
  {
   "cell_type": "code",
   "execution_count": 31,
   "id": "9357205f-b3f0-49c6-a9ab-f92e31d02c4b",
   "metadata": {},
   "outputs": [
    {
     "ename": "NameError",
     "evalue": "name 'data' is not defined",
     "output_type": "error",
     "traceback": [
      "\u001b[0;31m---------------------------------------------------------------------------\u001b[0m",
      "\u001b[0;31mNameError\u001b[0m                                 Traceback (most recent call last)",
      "\u001b[0;32m/tmp/ipykernel_33732/3761219283.py\u001b[0m in \u001b[0;36m<module>\u001b[0;34m\u001b[0m\n\u001b[0;32m----> 1\u001b[0;31m data['locations'] = [\n\u001b[0m\u001b[1;32m      2\u001b[0m        \u001b[0;34m(\u001b[0m\u001b[0;36m51.054721\u001b[0m \u001b[0;34m,\u001b[0m\u001b[0;34m-\u001b[0m\u001b[0;36m114.094418\u001b[0m\u001b[0;34m)\u001b[0m\u001b[0;34m,\u001b[0m\u001b[0;34m(\u001b[0m\u001b[0;36m51.048615\u001b[0m\u001b[0;34m,\u001b[0m \u001b[0;34m-\u001b[0m\u001b[0;36m114.070846\u001b[0m\u001b[0;34m)\u001b[0m\u001b[0;34m,\u001b[0m\u001b[0;34m\u001b[0m\u001b[0;34m\u001b[0m\u001b[0m\n\u001b[1;32m      3\u001b[0m        \u001b[0;34m(\u001b[0m\u001b[0;36m51.082129\u001b[0m \u001b[0;34m,\u001b[0m\u001b[0;34m-\u001b[0m\u001b[0;36m114.012339\u001b[0m\u001b[0;34m)\u001b[0m\u001b[0;34m,\u001b[0m\u001b[0;34m(\u001b[0m\u001b[0;36m51.038154\u001b[0m\u001b[0;34m,\u001b[0m\u001b[0;34m-\u001b[0m\u001b[0;36m114.077881\u001b[0m\u001b[0;34m)\u001b[0m\u001b[0;34m,\u001b[0m\u001b[0;34m\u001b[0m\u001b[0;34m\u001b[0m\u001b[0m\n\u001b[1;32m      4\u001b[0m        \u001b[0;34m(\u001b[0m\u001b[0;36m51.053740\u001b[0m \u001b[0;34m,\u001b[0m\u001b[0;34m-\u001b[0m\u001b[0;36m114.051470\u001b[0m\u001b[0;34m)\u001b[0m\u001b[0;34m,\u001b[0m\u001b[0;34m(\u001b[0m\u001b[0;36m51.080178\u001b[0m \u001b[0;34m,\u001b[0m\u001b[0;34m-\u001b[0m\u001b[0;36m113.996245\u001b[0m\u001b[0;34m)\u001b[0m\u001b[0;34m,\u001b[0m\u001b[0;34m\u001b[0m\u001b[0;34m\u001b[0m\u001b[0m\n\u001b[1;32m      5\u001b[0m        \u001b[0;34m(\u001b[0m\u001b[0;36m51.089622\u001b[0m \u001b[0;34m,\u001b[0m\u001b[0;34m-\u001b[0m\u001b[0;36m114.029157\u001b[0m\u001b[0;34m)\u001b[0m\u001b[0;34m,\u001b[0m \u001b[0;34m(\u001b[0m\u001b[0;36m51.077207\u001b[0m \u001b[0;34m,\u001b[0m\u001b[0;34m-\u001b[0m\u001b[0;36m114.006179\u001b[0m\u001b[0;34m)\u001b[0m\u001b[0;34m,\u001b[0m\u001b[0;34m\u001b[0m\u001b[0;34m\u001b[0m\u001b[0m\n",
      "\u001b[0;31mNameError\u001b[0m: name 'data' is not defined"
     ]
    }
   ],
   "source": [
    " data['locations'] = [\n",
    "        (51.054721 ,-114.094418),(51.048615, -114.070846), \n",
    "        (51.082129 ,-114.012339),(51.038154,-114.077881),\n",
    "        (51.053740 ,-114.051470),(51.080178 ,-113.996245),\n",
    "        (51.089622 ,-114.029157), (51.077207 ,-114.006179),\n",
    "        (51.043668 ,-114.078671),(51.038176,-114.086550 )\n",
    "        \n",
    "         ]\n",
    "\n",
    "distance_matrix = compute_euclidean_distance_matrix(data['locations'])\n",
    "\n",
    "def distance_callback(from_index, to_index):\n",
    "    \"\"\"Returns the distance between the two nodes.\"\"\"\n",
    "    # Convert from routing variable Index to distance matrix NodeIndex.\n",
    "    from_node = manager.IndexToNode(from_index)\n",
    "    to_node = manager.IndexToNode(to_index)\n",
    "    return distance_matrix[from_node][to_node]\n",
    "\n",
    "transit_callback_index = routing.RegisterTransitCallback(distance_callback)\n",
    "routing.SetArcCostEvaluatorOfAllVehicles(transit_callback_index)"
   ]
  },
  {
   "cell_type": "code",
   "execution_count": null,
   "id": "b24a8df6-f75c-4e77-9677-6bec1da1599d",
   "metadata": {},
   "outputs": [],
   "source": []
  }
 ],
 "metadata": {
  "kernelspec": {
   "display_name": "Python 3 (ipykernel)",
   "language": "python",
   "name": "python3"
  },
  "language_info": {
   "codemirror_mode": {
    "name": "ipython",
    "version": 3
   },
   "file_extension": ".py",
   "mimetype": "text/x-python",
   "name": "python",
   "nbconvert_exporter": "python",
   "pygments_lexer": "ipython3",
   "version": "3.8.11"
  }
 },
 "nbformat": 4,
 "nbformat_minor": 5
}
